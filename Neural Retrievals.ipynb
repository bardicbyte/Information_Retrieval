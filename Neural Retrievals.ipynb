{
 "cells": [
  {
   "cell_type": "markdown",
   "id": "olive-parts",
   "metadata": {
    "id": "olive-parts"
   },
   "source": [
    "#  Information Retrieval and Web Search Project\n",
    "\n"
   ]
  },
  {
   "cell_type": "markdown",
   "id": "da47d59b-c1f6-4c05-b4c1-4bd56cdb2426",
   "metadata": {
    "id": "da47d59b-c1f6-4c05-b4c1-4bd56cdb2426"
   },
   "source": [
    "### Alvee Mir - 48590969"
   ]
  },
  {
   "cell_type": "markdown",
   "id": "67b0d00c-5143-4446-8ad8-0395923e985e",
   "metadata": {
    "id": "67b0d00c-5143-4446-8ad8-0395923e985e"
   },
   "source": [
    "### Aims\n"
   ]
  },
  {
   "cell_type": "markdown",
   "id": "81234bfa-bd28-478d-8a38-04d66ff5759b",
   "metadata": {
    "id": "81234bfa-bd28-478d-8a38-04d66ff5759b",
    "jp-MarkdownHeadingCollapsed": true
   },
   "source": [
    "##### Project Aim:  \n",
    "> The aim of the entire project is to implement a number of representative information retrieval methods, evaluating and comparing them in the context of real use-cases.\n",
    "\n",
    "##### Part 2 Aim:\n",
    "> * Implement neural and generative IR methods introduced in the lectures and pracs.\n",
    "> * Compare the methods across different IR paradigms: Traditional, Neural, Generative.\n",
    "> * Reflect on the impact of LLMs on IR, focussing on effectiveness and evaluation."
   ]
  },
  {
   "cell_type": "markdown",
   "id": "89d1bd93-2d3b-45ff-a5f2-0459e75c8d59",
   "metadata": {
    "id": "89d1bd93-2d3b-45ff-a5f2-0459e75c8d59",
    "jp-MarkdownHeadingCollapsed": true
   },
   "source": [
    "### The Information Retrieval Task: Web Passage Ranking\n",
    "\n",
    "In this project, we will consider the (web) passage ranking task in open-domain question answering.\n",
    "\n",
    "The goal of web passage ranking task is to retrieve and rank passages that best answer user-submitted queries. In a typical web search scenario, users submit queries expecting a ranked list of relevant passages. The core of the task will be to rank these passages effectively to match the intent of each query.\n",
    "\n",
    "For this task, we will use a **sampled** version of the **MS-MARCO** passage collection. This collection is widely used for training and evaluating passage ranking and retrieval models. The provided queries are real search queries submitted to the Microsoft Bing search engine, and the entire collection consists of approximately 8.8 million passages. To learn more about the collection, you can refer to the original [MS-MARCO paper](https://arxiv.org/abs/1611.09268). We are going to work on a sample of MS-MARCO due to time/hardware/computations required to run experiments on the whole collection.\n",
    "\n",
    "Recently, emerging Large Language Models (LLMs) show potential in empowering search engines, especially in generating answers to users’ queries. This approach, known as Retrieval-Augmented Generation (RAG), combines Information Retrieval (IR) with generative language models to provide a better user experience. In addition to the passage ranking task, we will also explore the application of RAG and evaluate its performance."
   ]
  },
  {
   "cell_type": "markdown",
   "id": "xK6BWac_t_eI",
   "metadata": {
    "id": "xK6BWac_t_eI"
   },
   "source": [
    "### Review of the IR Workflow\n",
    "To conduct a complete experiment for the IR tasks in this project, we generally follow three key stages: `Indexing -> Retrieval -> Evaluation`. Each stage involves a corresponding portion of data from the collection. A collection typically comprises a corpus, queries, and a qrel. These are illustrated below:\n",
    "<center>\n",
    "<img src=\"ir-workflow.svg\" alt=\"ir-workflow\" width=\"500\" title=\"Fig.1 IR Workflow\"/>\n",
    "</center>"
   ]
  },
  {
   "cell_type": "markdown",
   "id": "86a1c957",
   "metadata": {
    "id": "86a1c957"
   },
   "source": [
    "\n",
    "\n",
    "---"
   ]
  },
  {
   "cell_type": "code",
   "execution_count": null,
   "id": "e7c481b5-275f-4e1c-a5c1-9f528f0357ba",
   "metadata": {
    "id": "e7c481b5-275f-4e1c-a5c1-9f528f0357ba"
   },
   "outputs": [],
   "source": [
    "from google.colab import drive\n",
    "drive.mount('/content/drive')"
   ]
  },
  {
   "cell_type": "markdown",
   "id": "0d9d81d0-4e72-403a-ba2c-c89690d5b937",
   "metadata": {
    "id": "0d9d81d0-4e72-403a-ba2c-c89690d5b937"
   },
   "source": [
    "Then navigate to your project folder"
   ]
  },
  {
   "cell_type": "code",
   "execution_count": null,
   "id": "c9f1ee3d-0224-40e7-9c36-fc3d1dded09f",
   "metadata": {
    "id": "c9f1ee3d-0224-40e7-9c36-fc3d1dded09f",
    "scrolled": true
   },
   "outputs": [],
   "source": [
    "%cd /content/drive/your-project-folder"
   ]
  },
  {
   "cell_type": "markdown",
   "id": "fb7aab60-3ec2-496e-8bec-72537bc942bb",
   "metadata": {
    "id": "fb7aab60-3ec2-496e-8bec-72537bc942bb"
   },
   "source": [
    "Next install necessary packages"
   ]
  },
  {
   "cell_type": "code",
   "execution_count": null,
   "id": "89d945a0-0885-41bd-9549-c31ffa39fc0b",
   "metadata": {
    "id": "89d945a0-0885-41bd-9549-c31ffa39fc0b"
   },
   "outputs": [],
   "source": [
    "!pip install pyserini==0.21.0 faiss-cpu"
   ]
  },
  {
   "cell_type": "markdown",
   "id": "240ffc91-5c1b-4c0f-be4b-3eb73d0e7e76",
   "metadata": {
    "id": "240ffc91-5c1b-4c0f-be4b-3eb73d0e7e76"
   },
   "source": [
    "# Task-1: *Traditional model vs. Neural models*"
   ]
  },
  {
   "cell_type": "markdown",
   "id": "307e57b9-4ba2-4bf5-98b7-274e88e7e3b6",
   "metadata": {},
   "source": [
    "## 1.1 Data Examination and Indexing"
   ]
  },
  {
   "cell_type": "markdown",
   "id": "11822006-0d54-41c0-96ee-667a8f07a0d6",
   "metadata": {},
   "source": [
    "### 1.1.1 Data Examination"
   ]
  },
  {
   "cell_type": "code",
   "execution_count": 12,
   "id": "40abe6b0-85e1-4ece-8410-55dd0c7fff6e",
   "metadata": {},
   "outputs": [
    {
     "name": "stdout",
     "output_type": "stream",
     "text": [
      "Document ID: 350\n",
      "Contents: The melting point of a substance is the temperature at which it changes from. a solid to a liquid. a...\n",
      "---\n",
      "Document ID: 11794\n",
      "Contents: Needed repairs to flooring, siding, deck or interior trim because of water damage, dry rot or other ...\n",
      "---\n",
      "Document ID: 19153\n",
      "Contents: #1, most heart attacks happen in the left ventricle which is the chamber which is responsible for pu...\n",
      "---\n",
      "Document ID: 26121\n",
      "Contents: Goldfish in cool ponds move more slowly than goldfish in very warm ponds. Fancy goldfish in water th...\n",
      "---\n",
      "Document ID: 26129\n",
      "Contents: If youâre not interested in breeding your goldfish then you should keep your temperature at a stea...\n",
      "---\n",
      "Total documents in MS-MARCO: 5853\n"
     ]
    }
   ],
   "source": [
    "# Examining the dataset \n",
    "import json\n",
    "\n",
    "with open('./infs7410_project_part_2_collection/sampled_collection.jsonl', 'r', encoding='utf-8') as f:\n",
    "    for i, line in enumerate(f):\n",
    "        if i < 5:  # Print first 5 documents\n",
    "            doc = json.loads(line)\n",
    "            print(f\"Document ID: {doc['id']}\")\n",
    "            print(f\"Contents: {doc['contents'][:100]}...\")  # First 100 characters of contents\n",
    "            print(\"---\")\n",
    "        else:\n",
    "            break\n",
    "\n",
    "# Count total documents\n",
    "with open('./infs7410_project_part_2_collection/sampled_collection.jsonl', 'r', encoding='utf-8') as f:\n",
    "    doc_count = sum(1 for _ in f)\n",
    "print(f\"Total documents in MS-MARCO: {doc_count}\")"
   ]
  },
  {
   "cell_type": "markdown",
   "id": "63154291-b840-41a8-b7d9-4364f1bac983",
   "metadata": {},
   "source": [
    "### 1.1.2 Indexing"
   ]
  },
  {
   "cell_type": "code",
   "execution_count": 13,
   "id": "41d9cb03-3223-4802-a8bc-1c89b71b15c1",
   "metadata": {
    "scrolled": true
   },
   "outputs": [
    {
     "name": "stdout",
     "output_type": "stream",
     "text": [
      "WARNING: sun.reflect.Reflection.getCallerClass is not supported. This will impact performance.\n",
      "2024-10-15 21:12:19,018 INFO  [main] index.IndexCollection (IndexCollection.java:380) - Setting log level to INFO\n",
      "2024-10-15 21:12:19,019 INFO  [main] index.IndexCollection (IndexCollection.java:383) - Starting indexer...\n",
      "2024-10-15 21:12:19,019 INFO  [main] index.IndexCollection (IndexCollection.java:384) - ============ Loading Parameters ============\n",
      "2024-10-15 21:12:19,019 INFO  [main] index.IndexCollection (IndexCollection.java:385) - DocumentCollection path: ./infs7410_project_part_2_collection\n",
      "2024-10-15 21:12:19,020 INFO  [main] index.IndexCollection (IndexCollection.java:386) - CollectionClass: JsonCollection\n",
      "2024-10-15 21:12:19,020 INFO  [main] index.IndexCollection (IndexCollection.java:387) - Generator: DefaultLuceneDocumentGenerator\n",
      "2024-10-15 21:12:19,020 INFO  [main] index.IndexCollection (IndexCollection.java:388) - Threads: 9\n",
      "2024-10-15 21:12:19,020 INFO  [main] index.IndexCollection (IndexCollection.java:389) - Language: en\n",
      "2024-10-15 21:12:19,020 INFO  [main] index.IndexCollection (IndexCollection.java:390) - Stemmer: none\n",
      "2024-10-15 21:12:19,020 INFO  [main] index.IndexCollection (IndexCollection.java:391) - Keep stopwords? true\n",
      "2024-10-15 21:12:19,020 INFO  [main] index.IndexCollection (IndexCollection.java:392) - Stopwords: null\n",
      "2024-10-15 21:12:19,020 INFO  [main] index.IndexCollection (IndexCollection.java:393) - Store positions? false\n",
      "2024-10-15 21:12:19,020 INFO  [main] index.IndexCollection (IndexCollection.java:394) - Store docvectors? true\n",
      "2024-10-15 21:12:19,020 INFO  [main] index.IndexCollection (IndexCollection.java:395) - Store document \"contents\" field? false\n",
      "2024-10-15 21:12:19,021 INFO  [main] index.IndexCollection (IndexCollection.java:396) - Store document \"raw\" field? true\n",
      "2024-10-15 21:12:19,021 INFO  [main] index.IndexCollection (IndexCollection.java:397) - Additional fields to index: []\n",
      "2024-10-15 21:12:19,021 INFO  [main] index.IndexCollection (IndexCollection.java:398) - Optimize (merge segments)? true\n",
      "2024-10-15 21:12:19,021 INFO  [main] index.IndexCollection (IndexCollection.java:399) - Whitelist: null\n",
      "2024-10-15 21:12:19,021 INFO  [main] index.IndexCollection (IndexCollection.java:400) - Pretokenized?: false\n",
      "2024-10-15 21:12:19,021 INFO  [main] index.IndexCollection (IndexCollection.java:401) - Index path: ./indexes/msmarco-index\n",
      "2024-10-15 21:12:19,024 INFO  [main] index.IndexCollection (IndexCollection.java:481) - ============ Indexing Collection ============\n",
      "2024-10-15 21:12:19,030 INFO  [main] index.IndexCollection (IndexCollection.java:468) - Using DefaultEnglishAnalyzer\n",
      "2024-10-15 21:12:19,030 INFO  [main] index.IndexCollection (IndexCollection.java:469) - Stemmer: none\n",
      "2024-10-15 21:12:19,030 INFO  [main] index.IndexCollection (IndexCollection.java:470) - Keep stopwords? true\n",
      "2024-10-15 21:12:19,030 INFO  [main] index.IndexCollection (IndexCollection.java:471) - Stopwords file: null\n",
      "2024-10-15 21:12:19,090 INFO  [main] index.IndexCollection (IndexCollection.java:510) - Thread pool with 9 threads initialized.\n",
      "2024-10-15 21:12:19,090 INFO  [main] index.IndexCollection (IndexCollection.java:512) - Initializing collection in ./infs7410_project_part_2_collection\n",
      "2024-10-15 21:12:19,092 INFO  [main] index.IndexCollection (IndexCollection.java:521) - 2 files found\n",
      "2024-10-15 21:12:19,092 INFO  [main] index.IndexCollection (IndexCollection.java:522) - Starting to index...\n",
      "2024-10-15 21:12:19,635 DEBUG [pool-2-thread-1] index.IndexCollection$LocalIndexerThread (IndexCollection.java:345) - infs7410_project_part_2_collection/sampled_collection.jsonl: 5853 docs added.\n",
      "2024-10-15 21:12:19,643 DEBUG [pool-2-thread-2] index.IndexCollection$LocalIndexerThread (IndexCollection.java:345) - .ipynb_checkpoints/sampled_collection-checkpoint.jsonl: 5853 docs added.\n",
      "2024-10-15 21:12:20,012 INFO  [main] index.IndexCollection (IndexCollection.java:578) - Indexing Complete! 11,706 documents indexed\n",
      "2024-10-15 21:12:20,012 INFO  [main] index.IndexCollection (IndexCollection.java:579) - ============ Final Counter Values ============\n",
      "2024-10-15 21:12:20,012 INFO  [main] index.IndexCollection (IndexCollection.java:580) - indexed:           11,706\n",
      "2024-10-15 21:12:20,012 INFO  [main] index.IndexCollection (IndexCollection.java:581) - unindexable:            0\n",
      "2024-10-15 21:12:20,012 INFO  [main] index.IndexCollection (IndexCollection.java:582) - empty:                  0\n",
      "2024-10-15 21:12:20,012 INFO  [main] index.IndexCollection (IndexCollection.java:583) - skipped:                0\n",
      "2024-10-15 21:12:20,012 INFO  [main] index.IndexCollection (IndexCollection.java:584) - errors:                 0\n",
      "2024-10-15 21:12:20,016 INFO  [main] index.IndexCollection (IndexCollection.java:587) - Total 11,706 documents indexed in 00:00:00\n"
     ]
    }
   ],
   "source": [
    "# Indexing MS-MARCO\n",
    "!python -m pyserini.index.lucene -collection JsonCollection -generator DefaultLuceneDocumentGenerator \\\n",
    " -threads 9 -input ./infs7410_project_part_2_collection \\\n",
    " -index ./indexes/msmarco-index \\\n",
    " -optimize \\\n",
    " -storeRaw \\\n",
    " -stemmer none \\\n",
    " -keepStopwords \\\n",
    " -storeDocvectors"
   ]
  },
  {
   "cell_type": "markdown",
   "id": "e3aa9fd0-cc04-4902-b6b7-24b9a8ea1e85",
   "metadata": {},
   "source": [
    "## 1.2 Retrieval Models"
   ]
  },
  {
   "cell_type": "code",
   "execution_count": 7,
   "id": "a0f3d802-316e-4fc9-baa1-1cb6f9c7f42f",
   "metadata": {
    "collapsed": true,
    "id": "a0f3d802-316e-4fc9-baa1-1cb6f9c7f42f",
    "jupyter": {
     "outputs_hidden": true
    },
    "scrolled": true
   },
   "outputs": [
    {
     "name": "stdout",
     "output_type": "stream",
     "text": [
      "Requirement already satisfied: matplotlib in /opt/anaconda3/envs/infs7410/lib/python3.8/site-packages (3.7.5)\n",
      "Requirement already satisfied: contourpy>=1.0.1 in /opt/anaconda3/envs/infs7410/lib/python3.8/site-packages (from matplotlib) (1.1.1)\n",
      "Requirement already satisfied: cycler>=0.10 in /opt/anaconda3/envs/infs7410/lib/python3.8/site-packages (from matplotlib) (0.12.1)\n",
      "Requirement already satisfied: fonttools>=4.22.0 in /opt/anaconda3/envs/infs7410/lib/python3.8/site-packages (from matplotlib) (4.53.1)\n",
      "Requirement already satisfied: kiwisolver>=1.0.1 in /opt/anaconda3/envs/infs7410/lib/python3.8/site-packages (from matplotlib) (1.4.5)\n",
      "Requirement already satisfied: numpy<2,>=1.20 in /opt/anaconda3/envs/infs7410/lib/python3.8/site-packages (from matplotlib) (1.24.4)\n",
      "Requirement already satisfied: packaging>=20.0 in /opt/anaconda3/envs/infs7410/lib/python3.8/site-packages (from matplotlib) (24.1)\n",
      "Requirement already satisfied: pillow>=6.2.0 in /opt/anaconda3/envs/infs7410/lib/python3.8/site-packages (from matplotlib) (10.4.0)\n",
      "Requirement already satisfied: pyparsing>=2.3.1 in /opt/anaconda3/envs/infs7410/lib/python3.8/site-packages (from matplotlib) (3.1.2)\n",
      "Requirement already satisfied: python-dateutil>=2.7 in /opt/anaconda3/envs/infs7410/lib/python3.8/site-packages (from matplotlib) (2.9.0.post0)\n",
      "Requirement already satisfied: importlib-resources>=3.2.0 in /opt/anaconda3/envs/infs7410/lib/python3.8/site-packages (from matplotlib) (6.4.0)\n",
      "Requirement already satisfied: zipp>=3.1.0 in /opt/anaconda3/envs/infs7410/lib/python3.8/site-packages (from importlib-resources>=3.2.0->matplotlib) (3.17.0)\n",
      "Requirement already satisfied: six>=1.5 in /opt/anaconda3/envs/infs7410/lib/python3.8/site-packages (from python-dateutil>=2.7->matplotlib) (1.16.0)\n",
      "Requirement already satisfied: seaborn in /opt/anaconda3/envs/infs7410/lib/python3.8/site-packages (0.13.2)\n",
      "Requirement already satisfied: numpy!=1.24.0,>=1.20 in /opt/anaconda3/envs/infs7410/lib/python3.8/site-packages (from seaborn) (1.24.4)\n",
      "Requirement already satisfied: pandas>=1.2 in /opt/anaconda3/envs/infs7410/lib/python3.8/site-packages (from seaborn) (2.0.3)\n",
      "Requirement already satisfied: matplotlib!=3.6.1,>=3.4 in /opt/anaconda3/envs/infs7410/lib/python3.8/site-packages (from seaborn) (3.7.5)\n",
      "Requirement already satisfied: contourpy>=1.0.1 in /opt/anaconda3/envs/infs7410/lib/python3.8/site-packages (from matplotlib!=3.6.1,>=3.4->seaborn) (1.1.1)\n",
      "Requirement already satisfied: cycler>=0.10 in /opt/anaconda3/envs/infs7410/lib/python3.8/site-packages (from matplotlib!=3.6.1,>=3.4->seaborn) (0.12.1)\n",
      "Requirement already satisfied: fonttools>=4.22.0 in /opt/anaconda3/envs/infs7410/lib/python3.8/site-packages (from matplotlib!=3.6.1,>=3.4->seaborn) (4.53.1)\n",
      "Requirement already satisfied: kiwisolver>=1.0.1 in /opt/anaconda3/envs/infs7410/lib/python3.8/site-packages (from matplotlib!=3.6.1,>=3.4->seaborn) (1.4.5)\n",
      "Requirement already satisfied: packaging>=20.0 in /opt/anaconda3/envs/infs7410/lib/python3.8/site-packages (from matplotlib!=3.6.1,>=3.4->seaborn) (24.1)\n",
      "Requirement already satisfied: pillow>=6.2.0 in /opt/anaconda3/envs/infs7410/lib/python3.8/site-packages (from matplotlib!=3.6.1,>=3.4->seaborn) (10.4.0)\n",
      "Requirement already satisfied: pyparsing>=2.3.1 in /opt/anaconda3/envs/infs7410/lib/python3.8/site-packages (from matplotlib!=3.6.1,>=3.4->seaborn) (3.1.2)\n",
      "Requirement already satisfied: python-dateutil>=2.7 in /opt/anaconda3/envs/infs7410/lib/python3.8/site-packages (from matplotlib!=3.6.1,>=3.4->seaborn) (2.9.0.post0)\n",
      "Requirement already satisfied: importlib-resources>=3.2.0 in /opt/anaconda3/envs/infs7410/lib/python3.8/site-packages (from matplotlib!=3.6.1,>=3.4->seaborn) (6.4.0)\n",
      "Requirement already satisfied: pytz>=2020.1 in /opt/anaconda3/envs/infs7410/lib/python3.8/site-packages (from pandas>=1.2->seaborn) (2024.1)\n",
      "Requirement already satisfied: tzdata>=2022.1 in /opt/anaconda3/envs/infs7410/lib/python3.8/site-packages (from pandas>=1.2->seaborn) (2024.1)\n",
      "Requirement already satisfied: zipp>=3.1.0 in /opt/anaconda3/envs/infs7410/lib/python3.8/site-packages (from importlib-resources>=3.2.0->matplotlib!=3.6.1,>=3.4->seaborn) (3.17.0)\n",
      "Requirement already satisfied: six>=1.5 in /opt/anaconda3/envs/infs7410/lib/python3.8/site-packages (from python-dateutil>=2.7->matplotlib!=3.6.1,>=3.4->seaborn) (1.16.0)\n",
      "Requirement already satisfied: pytrec-eval-terrier in /opt/anaconda3/envs/infs7410/lib/python3.8/site-packages (0.5.6)\n"
     ]
    }
   ],
   "source": [
    "# Import all python libraries and put your setup code here.\n",
    "!pip install matplotlib\n",
    "!pip install seaborn\n",
    "!pip install pytrec-eval-terrier\n"
   ]
  },
  {
   "cell_type": "code",
   "execution_count": 14,
   "id": "306c33c2-09ce-4649-bec2-6f9809f8403a",
   "metadata": {},
   "outputs": [],
   "source": [
    "stemming = None    \n",
    "stopwords = False "
   ]
  },
  {
   "cell_type": "markdown",
   "id": "dc5d4dc8-9338-4c22-8153-3577db61f568",
   "metadata": {
    "id": "dc5d4dc8-9338-4c22-8153-3577db61f568"
   },
   "source": [
    "### 1.2.1 BM25 \n",
    "\n",
    "We will use 2 different implementations of BM25:\n",
    "\n",
    "1. The Pyserini BM25 Implementation: This utilizes the robust and optimized BM25 algorithm integrated within the Pyserini information retrieval toolkit. Pyserini, built on Lucene, offers a high-performance, scalable solution that leverages years of refinement in search technology.\n",
    "\n",
    "2. Custom BM25 Implementation from Project Part 1: This is our bespoke implementation of the BM25 ranking function, developed as part of the earlier phase of this project. It provides us with a deeper understanding of the algorithm's mechanics and allows for custom modifications.\n",
    "\n",
    "By comparing these two implementations, we aim to assess the trade-offs between using a well-established library and a custom-built solution. This evaluation will offer insights into performance differences, potential optimizations, and the practical implications of each approach in real-world information retrieval scenarios."
   ]
  },
  {
   "cell_type": "code",
   "execution_count": 30,
   "id": "995876d6-0ea1-41ff-b7b1-02d54ad49d48",
   "metadata": {},
   "outputs": [],
   "source": [
    "import numpy as np\n",
    "import math\n",
    "from pyserini.search import SimpleSearcher\n",
    "from pyserini.analysis import Analyzer, get_lucene_analyzer\n",
    "from pyserini.index import IndexReader\n",
    "from tqdm import tqdm\n",
    "from collections import defaultdict\n",
    "\n",
    "# Initialize components\n",
    "index = 'indexes/msmarco-index/'  \n",
    "lucene_analyzer = get_lucene_analyzer(stemming=None, stopwords=True) \n",
    "analyzer = Analyzer(lucene_analyzer)\n",
    "searcher = SimpleSearcher(index)\n",
    "searcher.set_analyzer(lucene_analyzer)\n",
    "searcher.set_bm25(k1=1.3, b=0.75)\n",
    "\n",
    "queries = []\n",
    "with open(\"./infs7410_project_part_2_collection/sampled_queries.tsv\", \"r\") as f:\n",
    "    for line in f.readlines():\n",
    "        parts = line.split(\"\\t\")\n",
    "        # parts[0] ~> topic id\n",
    "        # parts[1] ~> query\n",
    "        queries.append((parts[0], parts[1].strip()))\n",
    "\n",
    "def search(run_file: str, k: int=10):\n",
    "    with open(run_file, \"w\") as f:\n",
    "        for topic_id, query in queries:\n",
    "            hits = searcher.search(query, k=k*2)  # Search for more results to account for duplicates\n",
    "            unique_docs = {}\n",
    "            for hit in hits:\n",
    "                if hit.docid not in unique_docs:\n",
    "                    unique_docs[hit.docid] = hit.score\n",
    "            \n",
    "            # Sort unique documents by score and write top k results\n",
    "            sorted_docs = sorted(unique_docs.items(), key=lambda x: x[1], reverse=True)[:k]\n",
    "            for i, (docid, score) in enumerate(sorted_docs):\n",
    "                f.write(f\"{topic_id} Q0 {docid} {i} {score} msmarco-pyserini_bm25\\n\")\n",
    "                \n",
    "\n",
    "def print_line(measure, scope, value):\n",
    "    \"\"\"\n",
    "    Utility method that nicely prints out our evaluation results.\n",
    "    \"\"\"\n",
    "    print('{:25s}{:8s}{:.4f}'.format(measure, scope, value))        \n",
    "\n",
    "search(\"msmarco-pyserini_bm25.run\", k=10)"
   ]
  },
  {
   "cell_type": "markdown",
   "id": "054b3af0-a5b3-479d-84ea-b1c40c312dfe",
   "metadata": {},
   "source": [
    "#### Now let's evaluate both our BM25 models using ndcg@3"
   ]
  },
  {
   "cell_type": "code",
   "execution_count": 9,
   "id": "3b456784-7c9f-47bb-aa17-0e1300e30987",
   "metadata": {},
   "outputs": [
    {
     "name": "stdout",
     "output_type": "stream",
     "text": [
      "nDCG@3 for the pyserini BM25 run: 0.4753\n",
      "Results have been written to msmarco_pyserini_bm25_ndcg3.txt\n"
     ]
    }
   ],
   "source": [
    "import pytrec_eval\n",
    "\n",
    "def load_qrels(file_path):\n",
    "    qrels = {}\n",
    "    with open(file_path, 'r') as f:\n",
    "        for line in f:\n",
    "            qid, _, docid, rel = line.strip().split()\n",
    "            if qid not in qrels:\n",
    "                qrels[qid] = {}\n",
    "            qrels[qid][docid] = int(rel)\n",
    "    return qrels\n",
    "\n",
    "def load_run(file_path):\n",
    "    run = {}\n",
    "    with open(file_path, 'r') as f:\n",
    "        for line in f:\n",
    "            qid, _, docid, rank, score, _ = line.strip().split()\n",
    "            if qid not in run:\n",
    "                run[qid] = {}\n",
    "            run[qid][docid] = float(score)\n",
    "    return run\n",
    "\n",
    "def evaluate_run(run_results, qrels):\n",
    "    evaluator = pytrec_eval.RelevanceEvaluator(qrels, measures=[\"ndcg_cut_3\"])\n",
    "    results = evaluator.evaluate(run_results)\n",
    "    \n",
    "    ndcg_scores = {query: query_measures['ndcg_cut_3'] for query, query_measures in results.items()}\n",
    "    mean_ndcg = sum(ndcg_scores.values()) / len(ndcg_scores)\n",
    "    \n",
    "    return mean_ndcg, ndcg_scores\n",
    "\n",
    "#_______________________#_______________________#_______________________#_______________________#_______________________\n",
    "# Load qrels and run\n",
    "qrels = load_qrels('./infs7410_project_part_2_collection/sampled_qrels.txt')\n",
    "run_file_path = 'msmarco-pyserini_bm25.run'\n",
    "run = load_run(run_file_path)\n",
    "\n",
    "# Evaluate run\n",
    "mean_ndcg, individual_ndcg_scores = evaluate_run(run, qrels)\n",
    "\n",
    "# Print result\n",
    "print(f\"nDCG@3 for the pyserini BM25 run: {mean_ndcg:.4f}\")\n",
    "\n",
    "# Write results to file\n",
    "output_file_path = 'msmarco_pyserini_bm25_ndcg3.txt'\n",
    "with open(output_file_path, 'w') as f:\n",
    "    f.write(f\"Mean nDCG@3 for the pyserini BM25 run : {mean_ndcg:.4f}\\n\")\n",
    "    f.write(\"Individual query nDCG@3 scores:\\n\")\n",
    "    for query, score in individual_ndcg_scores.items():\n",
    "        f.write(f\"Query {query}: {score:.4f}\\n\")\n",
    "\n",
    "print(f\"Results have been written to {output_file_path}\")"
   ]
  },
  {
   "cell_type": "markdown",
   "id": "5ebb9e39-0bd2-437e-b9bd-9bb349096970",
   "metadata": {
    "id": "5ebb9e39-0bd2-437e-b9bd-9bb349096970"
   },
   "source": [
    "------"
   ]
  },
  {
   "cell_type": "markdown",
   "id": "1081b0b2-60b9-483d-8b9d-0ceaa870a02d",
   "metadata": {
    "id": "1081b0b2-60b9-483d-8b9d-0ceaa870a02d"
   },
   "source": [
    "### 1.2.2 DPR"
   ]
  },
  {
   "cell_type": "code",
   "execution_count": 63,
   "id": "1b37f432-68e7-4cc0-9e36-d394429fad18",
   "metadata": {
    "id": "1b37f432-68e7-4cc0-9e36-d394429fad18",
    "scrolled": true
   },
   "outputs": [
    {
     "name": "stdout",
     "output_type": "stream",
     "text": [
      "Loading models and tokenizers...\n"
     ]
    },
    {
     "name": "stderr",
     "output_type": "stream",
     "text": [
      "Some weights of the model checkpoint at facebook/dpr-question_encoder-single-nq-base were not used when initializing DPRQuestionEncoder: ['question_encoder.bert_model.pooler.dense.bias', 'question_encoder.bert_model.pooler.dense.weight']\n",
      "- This IS expected if you are initializing DPRQuestionEncoder from the checkpoint of a model trained on another task or with another architecture (e.g. initializing a BertForSequenceClassification model from a BertForPreTraining model).\n",
      "- This IS NOT expected if you are initializing DPRQuestionEncoder from the checkpoint of a model that you expect to be exactly identical (initializing a BertForSequenceClassification model from a BertForSequenceClassification model).\n",
      "The tokenizer class you load from this checkpoint is not the same type as the class this function is called from. It may result in unexpected tokenization. \n",
      "The tokenizer class you load from this checkpoint is 'DPRQuestionEncoderTokenizer'. \n",
      "The class this function is called from is 'DPRContextEncoderTokenizer'.\n",
      "Some weights of the model checkpoint at facebook/dpr-ctx_encoder-single-nq-base were not used when initializing DPRContextEncoder: ['ctx_encoder.bert_model.pooler.dense.bias', 'ctx_encoder.bert_model.pooler.dense.weight']\n",
      "- This IS expected if you are initializing DPRContextEncoder from the checkpoint of a model trained on another task or with another architecture (e.g. initializing a BertForSequenceClassification model from a BertForPreTraining model).\n",
      "- This IS NOT expected if you are initializing DPRContextEncoder from the checkpoint of a model that you expect to be exactly identical (initializing a BertForSequenceClassification model from a BertForSequenceClassification model).\n"
     ]
    },
    {
     "name": "stdout",
     "output_type": "stream",
     "text": [
      "Using device: mps\n",
      "Loading passages...\n"
     ]
    },
    {
     "name": "stderr",
     "output_type": "stream",
     "text": [
      "Loading passages: 5853it [00:00, 248955.59it/s]\n"
     ]
    },
    {
     "name": "stdout",
     "output_type": "stream",
     "text": [
      "Encoding passages...\n"
     ]
    },
    {
     "name": "stderr",
     "output_type": "stream",
     "text": [
      "Encoding passages: 100%|██████████| 5853/5853 [05:07<00:00, 19.05it/s]\n"
     ]
    },
    {
     "name": "stdout",
     "output_type": "stream",
     "text": [
      "Loading and encoding queries...\n"
     ]
    },
    {
     "name": "stderr",
     "output_type": "stream",
     "text": [
      "Loading queries: 10it [00:00, 10384.51it/s]\n",
      "Encoding queries: 100%|██████████| 10/10 [00:00<00:00, 18.62it/s]\n"
     ]
    },
    {
     "name": "stdout",
     "output_type": "stream",
     "text": [
      "Performing retrieval...\n"
     ]
    },
    {
     "name": "stderr",
     "output_type": "stream",
     "text": [
      "Retrieving top-10 passages: 100%|██████████| 10/10 [00:00<00:00, 152.24it/s]\n"
     ]
    },
    {
     "name": "stdout",
     "output_type": "stream",
     "text": [
      "Saving results...\n"
     ]
    },
    {
     "name": "stderr",
     "output_type": "stream",
     "text": [
      "Writing results: 100%|██████████| 10/10 [00:00<00:00, 1070.11it/s]"
     ]
    },
    {
     "name": "stdout",
     "output_type": "stream",
     "text": [
      "Retrieval complete. Results saved to dpr_results.run\n"
     ]
    },
    {
     "name": "stderr",
     "output_type": "stream",
     "text": [
      "\n"
     ]
    }
   ],
   "source": [
    "import json\n",
    "import csv\n",
    "from tqdm import tqdm\n",
    "import numpy as np\n",
    "import torch\n",
    "from transformers import DPRQuestionEncoder, DPRContextEncoder, DPRQuestionEncoderTokenizer, DPRContextEncoderTokenizer\n",
    "\n",
    "# Load the DPR models and tokenizers\n",
    "question_model_name = \"facebook/dpr-question_encoder-single-nq-base\"\n",
    "context_model_name = \"facebook/dpr-ctx_encoder-single-nq-base\"\n",
    "print(\"Loading models and tokenizers...\")\n",
    "question_tokenizer = DPRQuestionEncoderTokenizer.from_pretrained(question_model_name)\n",
    "question_model = DPRQuestionEncoder.from_pretrained(question_model_name)\n",
    "context_tokenizer = DPRContextEncoderTokenizer.from_pretrained(context_model_name)\n",
    "context_model = DPRContextEncoder.from_pretrained(context_model_name)\n",
    "\n",
    "if torch.backends.mps.is_available():\n",
    "    device = torch.device(\"mps\")\n",
    "elif torch.cuda.is_available():\n",
    "    device = torch.device(\"cuda\")\n",
    "else:\n",
    "    device = torch.device(\"cpu\")\n",
    "print(f\"Using device: {device}\")\n",
    "question_model.to(device)\n",
    "context_model.to(device)\n",
    "\n",
    "def encode_text(text, model, tokenizer, max_length=512):\n",
    "    inputs = tokenizer(text, return_tensors=\"pt\", max_length=max_length, padding=\"max_length\", truncation=True)\n",
    "    inputs = {k: v.to(device) for k, v in inputs.items()}\n",
    "    with torch.no_grad():\n",
    "        outputs = model(**inputs)\n",
    "    return outputs.pooler_output.cpu().numpy().flatten()\n",
    "\n",
    "# Load passages\n",
    "print(\"Loading passages...\")\n",
    "passages = {}\n",
    "with open('./infs7410_project_part_2_collection/sampled_collection.jsonl', 'r') as f:\n",
    "    for line in tqdm(f, desc=\"Loading passages\"):\n",
    "        data = json.loads(line)\n",
    "        passages[data['id']] = data['contents']\n",
    "\n",
    "# Encode passages\n",
    "print(\"Encoding passages...\")\n",
    "passage_embeddings = {}\n",
    "for pid, text in tqdm(passages.items(), desc=\"Encoding passages\"):\n",
    "    passage_embeddings[pid] = encode_text(text, context_model, context_tokenizer)\n",
    "\n",
    "# Convert passage embeddings to a 2D numpy array\n",
    "passage_embedding_matrix = np.array(list(passage_embeddings.values()))\n",
    "\n",
    "# Load and encode queries\n",
    "print(\"Loading and encoding queries...\")\n",
    "queries = {}\n",
    "with open('./infs7410_project_part_2_collection/sampled_queries.tsv', 'r', newline='', encoding='utf-8') as f:\n",
    "    reader = csv.reader(f, delimiter='\\t')\n",
    "    for row in tqdm(reader, desc=\"Loading queries\"):\n",
    "        qid, query_text = row\n",
    "        queries[qid] = query_text\n",
    "\n",
    "query_embeddings = {}\n",
    "for qid, text in tqdm(queries.items(), desc=\"Encoding queries\"):\n",
    "    query_embeddings[qid] = encode_text(text, question_model, question_tokenizer)\n",
    "\n",
    "# Perform retrieval\n",
    "def retrieve_top_k(query_embedding, passage_embedding_matrix, passage_ids, k=10):\n",
    "    similarities = np.dot(passage_embedding_matrix, query_embedding)\n",
    "    top_k_indices = similarities.argsort()[-k:][::-1]\n",
    "    return [(passage_ids[i], similarities[i]) for i in top_k_indices]\n",
    "\n",
    "print(\"Performing retrieval...\")\n",
    "results = {}\n",
    "passage_ids = list(passage_embeddings.keys())\n",
    "for qid, q_emb in tqdm(query_embeddings.items(), desc=\"Retrieving top-10 passages\"):\n",
    "    results[qid] = retrieve_top_k(q_emb, passage_embedding_matrix, passage_ids, k=10)\n",
    "\n",
    "# Save results in .run format\n",
    "print(\"Saving results...\")\n",
    "with open('dpr_results.run', 'w') as f:\n",
    "    for qid, passages in tqdm(results.items(), desc=\"Writing results\"):\n",
    "        for rank, (pid, score) in enumerate(passages, 1):\n",
    "            f.write(f\"{qid} Q0 {pid} {rank} {score} DPR\\n\")\n",
    "\n",
    "print(\"Retrieval complete. Results saved to dpr_results.run\")"
   ]
  },
  {
   "cell_type": "markdown",
   "id": "c44e5c78-ca16-4113-a6dd-8c57cc5a240d",
   "metadata": {},
   "source": [
    "#### Now let's evaluate our DPR run using ndcg@3"
   ]
  },
  {
   "cell_type": "code",
   "execution_count": 64,
   "id": "f16f87ae-920f-4920-8bae-8b971a980027",
   "metadata": {},
   "outputs": [
    {
     "name": "stdout",
     "output_type": "stream",
     "text": [
      "nDCG@3 for the DPR: 0.4731\n",
      "Results have been written to msmarco_dpr_ndcg3.txt\n"
     ]
    }
   ],
   "source": [
    "import pytrec_eval\n",
    "\n",
    "def load_qrels(file_path):\n",
    "    qrels = {}\n",
    "    with open(file_path, 'r') as f:\n",
    "        for line in f:\n",
    "            qid, _, docid, rel = line.strip().split()\n",
    "            if qid not in qrels:\n",
    "                qrels[qid] = {}\n",
    "            qrels[qid][docid] = int(rel)\n",
    "    return qrels\n",
    "\n",
    "def load_run(file_path):\n",
    "    run = {}\n",
    "    with open(file_path, 'r') as f:\n",
    "        for line in f:\n",
    "            qid, _, docid, rank, score, _ = line.strip().split()\n",
    "            if qid not in run:\n",
    "                run[qid] = {}\n",
    "            run[qid][docid] = float(score)\n",
    "    return run\n",
    "\n",
    "def evaluate_run(run_results, qrels):\n",
    "    evaluator = pytrec_eval.RelevanceEvaluator(qrels, measures=[\"ndcg_cut_3\"])\n",
    "    results = evaluator.evaluate(run_results)\n",
    "    \n",
    "    ndcg_scores = {query: query_measures['ndcg_cut_3'] for query, query_measures in results.items()}\n",
    "    mean_ndcg = sum(ndcg_scores.values()) / len(ndcg_scores)\n",
    "    \n",
    "    return mean_ndcg, ndcg_scores\n",
    "\n",
    "# Load qrels and run\n",
    "qrels = load_qrels('./infs7410_project_part_2_collection/sampled_qrels.txt')\n",
    "run_file_path = 'dpr_results.run'\n",
    "run = load_run(run_file_path)\n",
    "\n",
    "# Evaluate run\n",
    "mean_ndcg, individual_ndcg_scores = evaluate_run(run, qrels)\n",
    "\n",
    "# Print result\n",
    "print(f\"nDCG@3 for the DPR: {mean_ndcg:.4f}\")\n",
    "\n",
    "# Write results to file\n",
    "output_file_path = 'msmarco_dpr_ndcg3.txt'\n",
    "with open(output_file_path, 'w') as f:\n",
    "    f.write(f\"Mean nDCG@3 for the DPR run: {mean_ndcg:.4f}\\n\")\n",
    "    f.write(\"Individual query nDCG@3 scores:\\n\")\n",
    "    for query, score in individual_ndcg_scores.items():\n",
    "        f.write(f\"Query {query}: {score:.4f}\\n\")\n",
    "\n",
    "print(f\"Results have been written to {output_file_path}\")\n"
   ]
  },
  {
   "cell_type": "code",
   "execution_count": 39,
   "id": "fcdc44ed-7f6f-4528-9e98-fe597c85058a",
   "metadata": {
    "collapsed": true,
    "jupyter": {
     "outputs_hidden": true
    },
    "scrolled": true
   },
   "outputs": [
    {
     "name": "stderr",
     "output_type": "stream",
     "text": [
      "huggingface/tokenizers: The current process just got forked, after parallelism has already been used. Disabling parallelism to avoid deadlocks...\n",
      "To disable this warning, you can either:\n",
      "\t- Avoid using `tokenizers` before the fork if possible\n",
      "\t- Explicitly set the environment variable TOKENIZERS_PARALLELISM=(true | false)\n"
     ]
    },
    {
     "name": "stdout",
     "output_type": "stream",
     "text": [
      "Collecting sentence-transformers\n",
      "  Downloading sentence_transformers-3.1.1-py3-none-any.whl.metadata (10 kB)\n",
      "Requirement already satisfied: transformers<5.0.0,>=4.38.0 in /opt/anaconda3/envs/infs7410/lib/python3.8/site-packages (from sentence-transformers) (4.43.3)\n",
      "Requirement already satisfied: tqdm in /opt/anaconda3/envs/infs7410/lib/python3.8/site-packages (from sentence-transformers) (4.66.4)\n",
      "Requirement already satisfied: torch>=1.11.0 in /opt/anaconda3/envs/infs7410/lib/python3.8/site-packages (from sentence-transformers) (2.4.0)\n",
      "Requirement already satisfied: scikit-learn in /opt/anaconda3/envs/infs7410/lib/python3.8/site-packages (from sentence-transformers) (1.3.2)\n",
      "Requirement already satisfied: scipy in /opt/anaconda3/envs/infs7410/lib/python3.8/site-packages (from sentence-transformers) (1.10.1)\n",
      "Requirement already satisfied: huggingface-hub>=0.19.3 in /opt/anaconda3/envs/infs7410/lib/python3.8/site-packages (from sentence-transformers) (0.24.5)\n",
      "Requirement already satisfied: Pillow in /opt/anaconda3/envs/infs7410/lib/python3.8/site-packages (from sentence-transformers) (10.4.0)\n",
      "Requirement already satisfied: filelock in /opt/anaconda3/envs/infs7410/lib/python3.8/site-packages (from huggingface-hub>=0.19.3->sentence-transformers) (3.15.4)\n",
      "Requirement already satisfied: fsspec>=2023.5.0 in /opt/anaconda3/envs/infs7410/lib/python3.8/site-packages (from huggingface-hub>=0.19.3->sentence-transformers) (2024.6.1)\n",
      "Requirement already satisfied: packaging>=20.9 in /opt/anaconda3/envs/infs7410/lib/python3.8/site-packages (from huggingface-hub>=0.19.3->sentence-transformers) (24.1)\n",
      "Requirement already satisfied: pyyaml>=5.1 in /opt/anaconda3/envs/infs7410/lib/python3.8/site-packages (from huggingface-hub>=0.19.3->sentence-transformers) (6.0.1)\n",
      "Requirement already satisfied: requests in /opt/anaconda3/envs/infs7410/lib/python3.8/site-packages (from huggingface-hub>=0.19.3->sentence-transformers) (2.32.3)\n",
      "Requirement already satisfied: typing-extensions>=3.7.4.3 in /opt/anaconda3/envs/infs7410/lib/python3.8/site-packages (from huggingface-hub>=0.19.3->sentence-transformers) (4.11.0)\n",
      "Requirement already satisfied: sympy in /opt/anaconda3/envs/infs7410/lib/python3.8/site-packages (from torch>=1.11.0->sentence-transformers) (1.13.1)\n",
      "Requirement already satisfied: networkx in /opt/anaconda3/envs/infs7410/lib/python3.8/site-packages (from torch>=1.11.0->sentence-transformers) (3.1)\n",
      "Requirement already satisfied: jinja2 in /opt/anaconda3/envs/infs7410/lib/python3.8/site-packages (from torch>=1.11.0->sentence-transformers) (3.1.4)\n",
      "Requirement already satisfied: numpy>=1.17 in /opt/anaconda3/envs/infs7410/lib/python3.8/site-packages (from transformers<5.0.0,>=4.38.0->sentence-transformers) (1.24.4)\n",
      "Requirement already satisfied: regex!=2019.12.17 in /opt/anaconda3/envs/infs7410/lib/python3.8/site-packages (from transformers<5.0.0,>=4.38.0->sentence-transformers) (2024.7.24)\n",
      "Requirement already satisfied: safetensors>=0.4.1 in /opt/anaconda3/envs/infs7410/lib/python3.8/site-packages (from transformers<5.0.0,>=4.38.0->sentence-transformers) (0.4.3)\n",
      "Requirement already satisfied: tokenizers<0.20,>=0.19 in /opt/anaconda3/envs/infs7410/lib/python3.8/site-packages (from transformers<5.0.0,>=4.38.0->sentence-transformers) (0.19.1)\n",
      "Requirement already satisfied: joblib>=1.1.1 in /opt/anaconda3/envs/infs7410/lib/python3.8/site-packages (from scikit-learn->sentence-transformers) (1.4.2)\n",
      "Requirement already satisfied: threadpoolctl>=2.0.0 in /opt/anaconda3/envs/infs7410/lib/python3.8/site-packages (from scikit-learn->sentence-transformers) (3.5.0)\n",
      "Requirement already satisfied: MarkupSafe>=2.0 in /opt/anaconda3/envs/infs7410/lib/python3.8/site-packages (from jinja2->torch>=1.11.0->sentence-transformers) (2.1.3)\n",
      "Requirement already satisfied: charset-normalizer<4,>=2 in /opt/anaconda3/envs/infs7410/lib/python3.8/site-packages (from requests->huggingface-hub>=0.19.3->sentence-transformers) (3.3.2)\n",
      "Requirement already satisfied: idna<4,>=2.5 in /opt/anaconda3/envs/infs7410/lib/python3.8/site-packages (from requests->huggingface-hub>=0.19.3->sentence-transformers) (3.7)\n",
      "Requirement already satisfied: urllib3<3,>=1.21.1 in /opt/anaconda3/envs/infs7410/lib/python3.8/site-packages (from requests->huggingface-hub>=0.19.3->sentence-transformers) (2.2.2)\n",
      "Requirement already satisfied: certifi>=2017.4.17 in /opt/anaconda3/envs/infs7410/lib/python3.8/site-packages (from requests->huggingface-hub>=0.19.3->sentence-transformers) (2024.7.4)\n",
      "Requirement already satisfied: mpmath<1.4,>=1.1.0 in /opt/anaconda3/envs/infs7410/lib/python3.8/site-packages (from sympy->torch>=1.11.0->sentence-transformers) (1.3.0)\n",
      "Downloading sentence_transformers-3.1.1-py3-none-any.whl (245 kB)\n",
      "\u001b[2K   \u001b[90m━━━━━━━━━━━━━━━━━━━━━━━━━━━━━━━━━━━━━━━━\u001b[0m \u001b[32m245.3/245.3 kB\u001b[0m \u001b[31m4.3 MB/s\u001b[0m eta \u001b[36m0:00:00\u001b[0ma \u001b[36m0:00:01\u001b[0m\n",
      "\u001b[?25hInstalling collected packages: sentence-transformers\n",
      "Successfully installed sentence-transformers-3.1.1\n",
      "Note: you may need to restart the kernel to use updated packages.\n"
     ]
    }
   ],
   "source": [
    "pip install -U sentence-transformers"
   ]
  },
  {
   "cell_type": "markdown",
   "id": "bff36428-3db5-4571-ac3f-243a510c3261",
   "metadata": {
    "id": "bff36428-3db5-4571-ac3f-243a510c3261"
   },
   "source": [
    "-------"
   ]
  },
  {
   "cell_type": "markdown",
   "id": "86e48d47-2e1f-47b0-9b44-1a1b2da65ccd",
   "metadata": {
    "id": "86e48d47-2e1f-47b0-9b44-1a1b2da65ccd"
   },
   "source": [
    "### 1.2.3 TILDEv2\n",
    "-------"
   ]
  },
  {
   "cell_type": "code",
   "execution_count": 1,
   "id": "cd9a0cd1-4267-47d1-adf7-81eaf6e6105f",
   "metadata": {
    "id": "aa22cf20-339c-4cb3-bd71-d12cad36f3de"
   },
   "outputs": [
    {
     "name": "stderr",
     "output_type": "stream",
     "text": [
      "/opt/anaconda3/envs/infs7410/lib/python3.8/site-packages/tqdm/auto.py:21: TqdmWarning: IProgress not found. Please update jupyter and ipywidgets. See https://ipywidgets.readthedocs.io/en/stable/user_install.html\n",
      "  from .autonotebook import tqdm as notebook_tqdm\n"
     ]
    },
    {
     "name": "stdout",
     "output_type": "stream",
     "text": [
      "Loading model and tokenizer...\n",
      "Model loaded and moved to cpu\n",
      "Loading passages...\n"
     ]
    },
    {
     "name": "stderr",
     "output_type": "stream",
     "text": [
      "huggingface/tokenizers: The current process just got forked, after parallelism has already been used. Disabling parallelism to avoid deadlocks...\n",
      "To disable this warning, you can either:\n",
      "\t- Avoid using `tokenizers` before the fork if possible\n",
      "\t- Explicitly set the environment variable TOKENIZERS_PARALLELISM=(true | false)\n",
      "Loading passages: 5853it [00:00, 294963.97it/s]\n"
     ]
    },
    {
     "name": "stdout",
     "output_type": "stream",
     "text": [
      "Encoding passages...\n"
     ]
    },
    {
     "name": "stderr",
     "output_type": "stream",
     "text": [
      "Encoding passages: 100%|██████████| 5853/5853 [04:32<00:00, 21.45it/s]\n"
     ]
    },
    {
     "name": "stdout",
     "output_type": "stream",
     "text": [
      "Loading and encoding queries...\n"
     ]
    },
    {
     "name": "stderr",
     "output_type": "stream",
     "text": [
      "Loading queries: 10it [00:00, 45197.24it/s]\n",
      "Encoding queries: 100%|██████████| 10/10 [00:00<00:00, 22.37it/s]\n"
     ]
    },
    {
     "name": "stdout",
     "output_type": "stream",
     "text": [
      "Performing retrieval...\n"
     ]
    },
    {
     "name": "stderr",
     "output_type": "stream",
     "text": [
      "Retrieving top-10 passages: 100%|██████████| 10/10 [00:00<00:00, 25.42it/s]\n"
     ]
    },
    {
     "name": "stdout",
     "output_type": "stream",
     "text": [
      "Saving results...\n"
     ]
    },
    {
     "name": "stderr",
     "output_type": "stream",
     "text": [
      "Writing results: 100%|██████████| 10/10 [00:00<00:00, 21055.74it/s]"
     ]
    },
    {
     "name": "stdout",
     "output_type": "stream",
     "text": [
      "Retrieval complete. Results saved to tildev2_results.run\n"
     ]
    },
    {
     "name": "stderr",
     "output_type": "stream",
     "text": [
      "\n"
     ]
    }
   ],
   "source": [
    "import json\n",
    "import csv\n",
    "from tqdm import tqdm\n",
    "import numpy as np\n",
    "import torch\n",
    "from transformers import AutoTokenizer\n",
    "from modeling import TILDEv2\n",
    "\n",
    "# Load the TILDEv2 model and tokenizer\n",
    "print(\"Loading model and tokenizer...\")\n",
    "model = TILDEv2.from_pretrained(\"ielab/TILDEv2-noExp\").eval()\n",
    "tokenizer = AutoTokenizer.from_pretrained(\"ielab/TILDEv2-noExp\")\n",
    "\n",
    "if torch.backends.mps.is_available():\n",
    "    device = torch.device(\"mps\")\n",
    "elif torch.cuda.is_available():\n",
    "    device = torch.device(\"cuda\")\n",
    "else:\n",
    "    device = torch.device(\"cpu\")\n",
    "model.to(device)\n",
    "print(f\"Model loaded and moved to {device}\")\n",
    "\n",
    "def encode_text(text):\n",
    "    inputs = tokenizer(text, return_tensors='pt')\n",
    "    inputs = {k: v.to(device) for k, v in inputs.items()}\n",
    "    with torch.no_grad():\n",
    "        token_ids, token_weights = model.encode(**inputs)\n",
    "    # Convert lists to numpy arrays\n",
    "    return np.array(token_ids), np.array(token_weights)\n",
    "\n",
    "def tildev2_scoring(query_ids, document_token_ids, document_token_weights):\n",
    "    score = 0\n",
    "    for q_id in query_ids:\n",
    "        idx = np.where(document_token_ids == q_id)\n",
    "        if len(idx[0]) != 0:\n",
    "            score += np.max(document_token_weights[idx])\n",
    "    return score\n",
    "\n",
    "# Load passages\n",
    "print(\"Loading passages...\")\n",
    "passages = {}\n",
    "with open('./infs7410_project_part_2_collection/sampled_collection.jsonl', 'r') as f:\n",
    "    for line in tqdm(f, desc=\"Loading passages\"):\n",
    "        data = json.loads(line)\n",
    "        passages[data['id']] = data['contents']\n",
    "\n",
    "# Encode passages\n",
    "print(\"Encoding passages...\")\n",
    "passage_embeddings = {}\n",
    "for pid, text in tqdm(passages.items(), desc=\"Encoding passages\"):\n",
    "    passage_embeddings[pid] = encode_text(text)\n",
    "\n",
    "# Load and encode queries\n",
    "print(\"Loading and encoding queries...\")\n",
    "queries = {}\n",
    "with open('./infs7410_project_part_2_collection/sampled_queries.tsv', 'r', newline='', encoding='utf-8') as f:\n",
    "    reader = csv.reader(f, delimiter='\\t')\n",
    "    for row in tqdm(reader, desc=\"Loading queries\"):\n",
    "        qid, query_text = row\n",
    "        queries[qid] = query_text\n",
    "\n",
    "query_embeddings = {}\n",
    "for qid, text in tqdm(queries.items(), desc=\"Encoding queries\"):\n",
    "    query_embeddings[qid] = encode_text(text)\n",
    "\n",
    "# Perform retrieval\n",
    "def retrieve_top_k(query_embedding, passage_embeddings, k=10):\n",
    "    scores = []\n",
    "    query_ids, _ = query_embedding  # We don't use query weights in scoring\n",
    "    for pid, (token_ids, token_weights) in passage_embeddings.items():\n",
    "        score = tildev2_scoring(query_ids, token_ids, token_weights)\n",
    "        scores.append((pid, score))\n",
    "    return sorted(scores, key=lambda x: x[1], reverse=True)[:k]\n",
    "\n",
    "print(\"Performing retrieval...\")\n",
    "results = {}\n",
    "for qid, q_emb in tqdm(query_embeddings.items(), desc=\"Retrieving top-10 passages\"):\n",
    "    results[qid] = retrieve_top_k(q_emb, passage_embeddings, k=10)\n",
    "\n",
    "# Save results in .run format\n",
    "print(\"Saving results...\")\n",
    "with open('tildev2_results.run', 'w') as f:\n",
    "    for qid, passages in tqdm(results.items(), desc=\"Writing results\"):\n",
    "        for rank, (pid, score) in enumerate(passages, 1):\n",
    "            f.write(f\"{qid} Q0 {pid} {rank} {score} TILDEv2\\n\")\n",
    "\n",
    "print(\"Retrieval complete. Results saved to tildev2_results.run\")"
   ]
  },
  {
   "cell_type": "markdown",
   "id": "06829baf-f7b9-4fa8-bb9b-57d71d97ff6f",
   "metadata": {},
   "source": [
    "#### Now let us evaluate our TILDEv2 run"
   ]
  },
  {
   "cell_type": "code",
   "execution_count": 2,
   "id": "e2e3e2cc-5b37-49c7-821f-4f23d9b442f4",
   "metadata": {},
   "outputs": [
    {
     "name": "stdout",
     "output_type": "stream",
     "text": [
      "nDCG@3 for TILDEv2: 0.7650\n",
      "Results have been written to msmarco_tildev2_ndcg3.txt\n"
     ]
    }
   ],
   "source": [
    "import pytrec_eval\n",
    "\n",
    "def load_qrels(file_path):\n",
    "    qrels = {}\n",
    "    with open(file_path, 'r') as f:\n",
    "        for line in f:\n",
    "            qid, _, docid, rel = line.strip().split()\n",
    "            if qid not in qrels:\n",
    "                qrels[qid] = {}\n",
    "            qrels[qid][docid] = int(rel)\n",
    "    return qrels\n",
    "\n",
    "def load_run(file_path):\n",
    "    run = {}\n",
    "    with open(file_path, 'r') as f:\n",
    "        for line in f:\n",
    "            qid, _, docid, rank, score, _ = line.strip().split()\n",
    "            if qid not in run:\n",
    "                run[qid] = {}\n",
    "            run[qid][docid] = float(score)\n",
    "    return run\n",
    "\n",
    "def evaluate_run(run_results, qrels):\n",
    "    evaluator = pytrec_eval.RelevanceEvaluator(qrels, measures=[\"ndcg_cut_3\"])\n",
    "    results = evaluator.evaluate(run_results)\n",
    "    \n",
    "    ndcg_scores = {query: query_measures['ndcg_cut_3'] for query, query_measures in results.items()}\n",
    "    mean_ndcg = sum(ndcg_scores.values()) / len(ndcg_scores)\n",
    "    \n",
    "    return mean_ndcg, ndcg_scores\n",
    "\n",
    "# Load qrels and run\n",
    "qrels = load_qrels('./infs7410_project_part_2_collection/sampled_qrels.txt')\n",
    "run_file_path = 'tildev2_results.run'\n",
    "run = load_run(run_file_path)\n",
    "\n",
    "# Evaluate run\n",
    "mean_ndcg, individual_ndcg_scores = evaluate_run(run, qrels)\n",
    "\n",
    "# Print result\n",
    "print(f\"nDCG@3 for TILDEv2: {mean_ndcg:.4f}\")\n",
    "\n",
    "# Write results to file\n",
    "output_file_path = 'msmarco_tildev2_ndcg3.txt'\n",
    "with open(output_file_path, 'w') as f:\n",
    "    f.write(f\"Mean nDCG@3 for the TILDEv2 run: {mean_ndcg:.4f}\\n\")\n",
    "    f.write(\"Individual query nDCG@3 scores:\\n\")\n",
    "    for query, score in individual_ndcg_scores.items():\n",
    "        f.write(f\"Query {query}: {score:.4f}\\n\")\n",
    "\n",
    "print(f\"Results have been written to {output_file_path}\")"
   ]
  },
  {
   "cell_type": "markdown",
   "id": "374d75e5-9d70-4638-bc6c-afd639ac65a5",
   "metadata": {},
   "source": [
    "### 1.2.4 Bonus: Point-wise and Pair-wise reranking"
   ]
  },
  {
   "cell_type": "markdown",
   "id": "406133d7-2683-4e83-9180-5ec1e8a86e50",
   "metadata": {},
   "source": [
    "For our reranking task on the MS MARCO dataset, we selected the Cross-Encoder MiniLM model, specifically the \"cross-encoder/ms-marco-MiniLM-L-6-v2\" variant. This model was chosen for its balance of efficiency and effectiveness in passage ranking tasks. Cross-Encoder models are known for their strong performance in reranking scenarios as they directly compare query-document pairs, capturing intricate relevance patterns. The MiniLM architecture, a compressed version of BERT, offers computational efficiency without significantly compromising on performance. Importantly, this particular model has been fine-tuned on the MS MARCO dataset, making it especially suitable for our task. By implementing both pointwise and pairwise reranking approaches with this model, we aim to leverage its strengths in capturing relevance while exploring different ranking paradigms."
   ]
  },
  {
   "cell_type": "code",
   "execution_count": 7,
   "id": "76d9748a-e527-4d73-8763-2704e7801978",
   "metadata": {},
   "outputs": [
    {
     "name": "stdout",
     "output_type": "stream",
     "text": [
      "Loading cross-encoder/ms-marco-MiniLM-L-6-v2 model and tokenizer...\n",
      "Model loaded and moved to cpu\n",
      "Loading passages...\n",
      "Loading queries...\n",
      "Loading TILDEv2 results...\n",
      "Starting reranking process...\n"
     ]
    },
    {
     "name": "stderr",
     "output_type": "stream",
     "text": [
      "Reranking queries: 100%|██████████| 10/10 [00:09<00:00,  1.05it/s]"
     ]
    },
    {
     "name": "stdout",
     "output_type": "stream",
     "text": [
      "Processed 10 queries\n",
      "Saving pointwise reranking results...\n",
      "Saving pairwise reranking results...\n",
      "Reranking complete. Results saved to cross_encoder_minilm_pointwise_rerank.run and cross_encoder_minilm_pairwise_rerank.run\n"
     ]
    },
    {
     "name": "stderr",
     "output_type": "stream",
     "text": [
      "\n"
     ]
    }
   ],
   "source": [
    "import torch\n",
    "from transformers import AutoTokenizer, AutoModelForSequenceClassification\n",
    "from tqdm import tqdm\n",
    "import json\n",
    "import csv\n",
    "import gc\n",
    "from itertools import combinations\n",
    "\n",
    "# Load Cross-Encoder MiniLM model and tokenizer\n",
    "model_name = \"cross-encoder/ms-marco-MiniLM-L-6-v2\"\n",
    "print(f\"Loading {model_name} model and tokenizer...\")\n",
    "tokenizer = AutoTokenizer.from_pretrained(model_name)\n",
    "model = AutoModelForSequenceClassification.from_pretrained(model_name)\n",
    "device = torch.device(\"cuda\" if torch.cuda.is_available() else \"cpu\")\n",
    "model.to(device)\n",
    "print(f\"Model loaded and moved to {device}\")\n",
    "\n",
    "# Load passages\n",
    "print(\"Loading passages...\")\n",
    "passages = {}\n",
    "with open('./infs7410_project_part_2_collection/sampled_collection.jsonl', 'r') as f:\n",
    "    for line in f:\n",
    "        data = json.loads(line)\n",
    "        passages[data['id']] = data['contents']\n",
    "\n",
    "# Load queries\n",
    "print(\"Loading queries...\")\n",
    "queries = {}\n",
    "with open('./infs7410_project_part_2_collection/sampled_queries.tsv', 'r', newline='', encoding='utf-8') as f:\n",
    "    reader = csv.reader(f, delimiter='\\t')\n",
    "    for row in reader:\n",
    "        qid, query_text = row\n",
    "        queries[qid] = query_text\n",
    "\n",
    "# Load TILDEv2 results\n",
    "print(\"Loading TILDEv2 results...\")\n",
    "tildev2_results = {}\n",
    "with open('tildev2_results.run', 'r') as f:\n",
    "    for line in f:\n",
    "        qid, _, docid, rank, score, _ = line.strip().split()\n",
    "        if int(rank) <= 10:  # Only consider top 10 results\n",
    "            if qid not in tildev2_results:\n",
    "                tildev2_results[qid] = []\n",
    "            tildev2_results[qid].append((docid, float(score)))\n",
    "\n",
    "def get_relevance_score(query, passage):\n",
    "    inputs = tokenizer(query, passage, return_tensors=\"pt\", truncation=True, max_length=512, padding=True)\n",
    "    inputs = {k: v.to(device) for k, v in inputs.items()}\n",
    "    with torch.no_grad():\n",
    "        outputs = model(**inputs)\n",
    "    return outputs.logits.squeeze().item()\n",
    "\n",
    "def pointwise_rerank(query, docs):\n",
    "    doc_scores = []\n",
    "    for doc_id, _ in docs:\n",
    "        score = get_relevance_score(query, passages[doc_id])\n",
    "        doc_scores.append((doc_id, score))\n",
    "    return sorted(doc_scores, key=lambda x: x[1], reverse=True)\n",
    "\n",
    "def pairwise_rerank(query, docs):\n",
    "    doc_scores = {doc_id: 0 for doc_id, _ in docs}\n",
    "    for (doc_id1, _), (doc_id2, _) in combinations(docs, 2):\n",
    "        score1 = get_relevance_score(query, passages[doc_id1])\n",
    "        score2 = get_relevance_score(query, passages[doc_id2])\n",
    "        if score1 > score2:\n",
    "            doc_scores[doc_id1] += 1\n",
    "        else:\n",
    "            doc_scores[doc_id2] += 1\n",
    "    return sorted(doc_scores.items(), key=lambda x: x[1], reverse=True)\n",
    "\n",
    "# Perform reranking\n",
    "print(\"Starting reranking process...\")\n",
    "pointwise_results = {}\n",
    "pairwise_results = {}\n",
    "\n",
    "try:\n",
    "    for i, (qid, docs) in enumerate(tqdm(tildev2_results.items(), desc=\"Reranking queries\")):\n",
    "        query = queries[qid]\n",
    "        pointwise_results[qid] = pointwise_rerank(query, docs)\n",
    "        pairwise_results[qid] = pairwise_rerank(query, docs)\n",
    "        if (i + 1) % 10 == 0:\n",
    "            print(f\"Processed {i + 1} queries\")\n",
    "            # Clear CUDA cache if using GPU\n",
    "            if torch.cuda.is_available():\n",
    "                torch.cuda.empty_cache()\n",
    "            # Force garbage collection\n",
    "            gc.collect()\n",
    "\n",
    "except Exception as e:\n",
    "    print(f\"An error occurred during reranking: {str(e)}\")\n",
    "    # Save partial results\n",
    "    print(\"Saving partial results...\")\n",
    "\n",
    "# Save pointwise reranking results\n",
    "print(\"Saving pointwise reranking results...\")\n",
    "with open('cross_encoder_minilm_pointwise_rerank.run', 'w') as f:\n",
    "    for qid, docs in pointwise_results.items():\n",
    "        for rank, (doc_id, score) in enumerate(docs, 1):\n",
    "            f.write(f\"{qid} Q0 {doc_id} {rank} {score} Cross-Encoder-MiniLM-Pointwise\\n\")\n",
    "\n",
    "# Save pairwise reranking results\n",
    "print(\"Saving pairwise reranking results...\")\n",
    "with open('cross_encoder_minilm_pairwise_rerank.run', 'w') as f:\n",
    "    for qid, docs in pairwise_results.items():\n",
    "        for rank, (doc_id, score) in enumerate(docs, 1):\n",
    "            f.write(f\"{qid} Q0 {doc_id} {rank} {score} Cross-Encoder-MiniLM-Pairwise\\n\")\n",
    "\n",
    "print(\"Reranking complete. Results saved to cross_encoder_minilm_pointwise_rerank.run and cross_encoder_minilm_pairwise_rerank.run\")"
   ]
  },
  {
   "cell_type": "markdown",
   "id": "6387a288-dd85-4142-a940-fbeddb692082",
   "metadata": {},
   "source": [
    "#### Let us evaluate our pointwise and pairwise re-ranking"
   ]
  },
  {
   "cell_type": "code",
   "execution_count": 11,
   "id": "808b3e38-3ed1-40e9-a9ab-90a2f9996c15",
   "metadata": {},
   "outputs": [
    {
     "name": "stdout",
     "output_type": "stream",
     "text": [
      "nDCG@3 for Cross-Encoder MiniLM Pointwise: 0.7929\n",
      "Results for Cross-Encoder MiniLM Pointwise have been written to cross-encoder_minilm_pointwise_evaluation_results.txt\n",
      "nDCG@3 for Cross-Encoder MiniLM Pairwise: 0.7929\n",
      "Results for Cross-Encoder MiniLM Pairwise have been written to cross-encoder_minilm_pairwise_evaluation_results.txt\n",
      "nDCG@3 for TILDEv2: 0.7650\n",
      "Results for TILDEv2 have been written to tildev2_evaluation_results.txt\n",
      "\n",
      "Improvement of Cross-Encoder MiniLM Pointwise over TILDEv2: 0.0279\n",
      "Percentage improvement: 3.65%\n",
      "\n",
      "Improvement of Cross-Encoder MiniLM Pairwise over TILDEv2: 0.0279\n",
      "Percentage improvement: 3.65%\n"
     ]
    }
   ],
   "source": [
    "import pytrec_eval\n",
    "\n",
    "def load_qrels(file_path):\n",
    "    qrels = {}\n",
    "    with open(file_path, 'r') as f:\n",
    "        for line in f:\n",
    "            qid, _, docid, rel = line.strip().split()\n",
    "            if qid not in qrels:\n",
    "                qrels[qid] = {}\n",
    "            qrels[qid][docid] = int(rel)\n",
    "    return qrels\n",
    "\n",
    "def load_run(file_path):\n",
    "    run = {}\n",
    "    with open(file_path, 'r') as f:\n",
    "        for line in f:\n",
    "            qid, _, docid, rank, score, _ = line.strip().split()\n",
    "            if qid not in run:\n",
    "                run[qid] = {}\n",
    "            run[qid][docid] = float(score)\n",
    "    return run\n",
    "\n",
    "def evaluate_run(run_results, qrels):\n",
    "    evaluator = pytrec_eval.RelevanceEvaluator(qrels, measures=[\"ndcg_cut_3\"])\n",
    "    results = evaluator.evaluate(run_results)\n",
    "    \n",
    "    ndcg_scores = {query: query_measures['ndcg_cut_3'] for query, query_measures in results.items()}\n",
    "    mean_ndcg = sum(ndcg_scores.values()) / len(ndcg_scores)\n",
    "    \n",
    "    return mean_ndcg, ndcg_scores\n",
    "\n",
    "# Load qrels\n",
    "qrels = load_qrels('./infs7410_project_part_2_collection/sampled_qrels.txt')\n",
    "\n",
    "# Load and evaluate runs\n",
    "runs = {\n",
    "    'Cross-Encoder MiniLM Pointwise': 'cross_encoder_minilm_pointwise_rerank.run',\n",
    "    'Cross-Encoder MiniLM Pairwise': 'cross_encoder_minilm_pairwise_rerank.run',\n",
    "    'TILDEv2': 'tildev2_results.run'\n",
    "}\n",
    "\n",
    "results = {}\n",
    "for name, file_path in runs.items():\n",
    "    run = load_run(file_path)\n",
    "    mean_ndcg, individual_ndcg_scores = evaluate_run(run, qrels)\n",
    "    results[name] = {\n",
    "        'mean_ndcg': mean_ndcg,\n",
    "        'individual_scores': individual_ndcg_scores\n",
    "    }\n",
    "\n",
    "# Print results and write to separate files\n",
    "for name, result in results.items():\n",
    "    output_file_path = f'{name.lower().replace(\" \", \"_\")}_evaluation_results.txt'\n",
    "    with open(output_file_path, 'w') as f:\n",
    "        print(f\"nDCG@3 for {name}: {result['mean_ndcg']:.4f}\")\n",
    "        f.write(f\"Mean nDCG@3 for {name}: {result['mean_ndcg']:.4f}\\n\")\n",
    "        f.write(f\"Individual query nDCG@3 scores for {name}:\\n\")\n",
    "        for query, score in result['individual_scores'].items():\n",
    "            f.write(f\"Query {query}: {score:.4f}\\n\")\n",
    "    print(f\"Results for {name} have been written to {output_file_path}\")\n",
    "\n",
    "# Calculate and print improvement over TILDEv2\n",
    "if 'TILDEv2' in results:\n",
    "    tildev2_ndcg = results['TILDEv2']['mean_ndcg']\n",
    "    for name in ['Cross-Encoder MiniLM Pointwise', 'Cross-Encoder MiniLM Pairwise']:\n",
    "        if name in results:\n",
    "            improvement = results[name]['mean_ndcg'] - tildev2_ndcg\n",
    "            percentage_improvement = (improvement / tildev2_ndcg) * 100\n",
    "            print(f\"\\nImprovement of {name} over TILDEv2: {improvement:.4f}\")\n",
    "            print(f\"Percentage improvement: {percentage_improvement:.2f}%\")"
   ]
  },
  {
   "cell_type": "markdown",
   "id": "9313d187-10b2-42cd-ad21-42e9b94fc44d",
   "metadata": {
    "id": "9313d187-10b2-42cd-ad21-42e9b94fc44d"
   },
   "source": [
    "-------"
   ]
  },
  {
   "cell_type": "markdown",
   "id": "e8e74377-7f81-425d-824d-27a95ae52949",
   "metadata": {
    "id": "e8e74377-7f81-425d-824d-27a95ae52949"
   },
   "source": [
    "## 1.3 Evaluation\n"
   ]
  },
  {
   "cell_type": "markdown",
   "id": "1cd0a6ca-d733-4613-a812-b2eb2e2257a0",
   "metadata": {
    "id": "d8c0f693-330b-4682-8e07-4fc35df4cb04"
   },
   "source": [
    "### 1.3.1 Significance Tests using BM25 as the Baseline"
   ]
  },
  {
   "cell_type": "code",
   "execution_count": 16,
   "id": "244103e6-a384-41f4-a7b6-722d54fe41ae",
   "metadata": {},
   "outputs": [
    {
     "name": "stdout",
     "output_type": "stream",
     "text": [
      "Paired t-test results for DPR vs BM25:\n",
      "t-statistic: 0.032278631522238865\n",
      "p-value: 0.9749543607065105\n",
      "Significance: (not significant)\n",
      "\n",
      "Paired t-test results for TILDEv2 vs BM25:\n",
      "t-statistic: -3.101084347976668\n",
      "p-value: 0.012700214790191277\n",
      "Significance: * (p < 0.05)\n",
      "\n",
      "Paired t-test results for Cross-Encoder MiniLM Pointwise vs BM25:\n",
      "t-statistic: -3.330844035615104\n",
      "p-value: 0.008787269999060725\n",
      "Significance: ** (p < 0.01)\n",
      "\n",
      "Paired t-test results for Cross-Encoder MiniLM Pairwise vs BM25:\n",
      "t-statistic: -3.330844035615104\n",
      "p-value: 0.008787269999060725\n",
      "Significance: ** (p < 0.01)\n",
      "\n"
     ]
    }
   ],
   "source": [
    "import numpy as np\n",
    "from scipy import stats\n",
    "\n",
    "def load_scores(file_path):\n",
    "    scores = {}\n",
    "    with open(file_path, 'r') as f:\n",
    "        for line in f:\n",
    "            if line.startswith(\"Query\"):\n",
    "                query_id, score = line.strip().split(\": \")\n",
    "                query_id = query_id.split()[1]  # Extract the query ID\n",
    "                scores[query_id] = float(score)\n",
    "    return scores\n",
    "\n",
    "def perform_paired_ttest(baseline_scores, model_scores, baseline_name, model_name):\n",
    "    # Ensure we're comparing the same queries\n",
    "    common_queries = set(baseline_scores.keys()) & set(model_scores.keys())\n",
    "    baseline_filtered = [baseline_scores[q] for q in common_queries]\n",
    "    model_filtered = [model_scores[q] for q in common_queries]\n",
    "\n",
    "    t_statistic, p_value = stats.ttest_rel(baseline_filtered, model_filtered)\n",
    "    \n",
    "    print(f\"Paired t-test results for {model_name} vs {baseline_name}:\")\n",
    "    print(f\"t-statistic: {t_statistic}\")\n",
    "    print(f\"p-value: {p_value}\")\n",
    "    \n",
    "    if p_value < 0.01:\n",
    "        significance = \"** (p < 0.01)\"\n",
    "    elif p_value < 0.05:\n",
    "        significance = \"* (p < 0.05)\"\n",
    "    else:\n",
    "        significance = \"(not significant)\"\n",
    "    \n",
    "    print(f\"Significance: {significance}\\n\")\n",
    "    \n",
    "    return t_statistic, p_value, significance\n",
    "\n",
    "# Load scores for each model\n",
    "bm25_scores = load_scores(\"msmarco_pyserini_bm25_ndcg3.txt\")\n",
    "dpr_scores = load_scores(\"msmarco_dpr_ndcg3.txt\")\n",
    "tildev2_scores = load_scores(\"msmarco_tildev2_ndcg3.txt\")\n",
    "cross_encoder_pointwise_scores = load_scores(\"cross-encoder_minilm_pairwise_evaluation_results.txt\")\n",
    "cross_encoder_pairwise_scores = load_scores(\"cross-encoder_minilm_pairwise_evaluation_results.txt\")\n",
    "\n",
    "# Perform paired t-tests against BM25 baseline\n",
    "baseline_name = \"BM25\"\n",
    "models = [\n",
    "    (\"DPR\", dpr_scores),\n",
    "    (\"TILDEv2\", tildev2_scores),\n",
    "    (\"Cross-Encoder MiniLM Pointwise\", cross_encoder_pointwise_scores),\n",
    "    (\"Cross-Encoder MiniLM Pairwise\", cross_encoder_pairwise_scores)\n",
    "]\n",
    "\n",
    "results = []\n",
    "\n",
    "for model_name, model_scores in models:\n",
    "    t_statistic, p_value, significance = perform_paired_ttest(\n",
    "        bm25_scores, model_scores, baseline_name, model_name\n",
    "    )\n",
    "    \n",
    "    results.append({\n",
    "        \"Model\": model_name,\n",
    "        \"t-statistic\": t_statistic,\n",
    "        \"p-value\": p_value,\n",
    "        \"Significance\": significance\n",
    "    })\n",
    "\n",
    "# The results list now contains comparisons of each model against BM25\n",
    "# We'll use this to create a markdown table later"
   ]
  },
  {
   "cell_type": "markdown",
   "id": "95a6410e-911b-4f1d-b990-cc7168dbf2cd",
   "metadata": {},
   "source": [
    "### 1.3.2 Combining the results"
   ]
  },
  {
   "cell_type": "markdown",
   "id": "dd198e09-61a2-4b32-ae31-6ab3349e7531",
   "metadata": {},
   "source": [
    "| Model | Mean nDCG@3 | Improvement over BM25 | t-statistic | p-value | Significance |\n",
    "|-------|-------------|----------------------|-------------|---------|--------------|\n",
    "| BM25 (baseline) | 0.4753 | - | - | - | - |\n",
    "| DPR | 0.4731 | -0.0022 | 0.0323 | 0.9750 | (not significant) |\n",
    "| TILDEv2 | 0.7650 | +0.2897 | -3.1011 | 0.0127 | * (p < 0.05) |\n",
    "| Cross-Encoder MiniLM Pointwise | 0.7929 | +0.3176 | -3.3308 | 0.0088 | ** (p < 0.01) |\n",
    "| Cross-Encoder MiniLM Pairwise | 0.7929 | +0.3176 | -3.3308 | 0.0088 | ** (p < 0.01) |"
   ]
  },
  {
   "cell_type": "markdown",
   "id": "093b83e3-5239-4e95-87a3-af0a2c5a6735",
   "metadata": {},
   "source": [
    "### 1.3.3 Plotting Gain Loss plots"
   ]
  },
  {
   "cell_type": "code",
   "execution_count": 21,
   "id": "9407dc14-0360-43be-ad79-3f9cfa04f17f",
   "metadata": {},
   "outputs": [
    {
     "data": {
      "image/png": "[encoded data removed]",
      "text/plain": [
       "<Figure size 1200x600 with 1 Axes>"
      ]
     },
     "metadata": {},
     "output_type": "display_data"
    },
    {
     "name": "stdout",
     "output_type": "stream",
     "text": [
      "Average gain in NDCG@3: -0.0022\n"
     ]
    }
   ],
   "source": [
    "import pytrec_eval\n",
    "import numpy as np\n",
    "import matplotlib.pyplot as plt\n",
    "\n",
    "# Load TREC-COVID qrels\n",
    "with open('./infs7410_project_part_2_collection/sampled_qrels.txt', 'r') as f:\n",
    "    qrels = pytrec_eval.parse_qrel(f)\n",
    "\n",
    "# Initialize evaluator\n",
    "evaluator = pytrec_eval.RelevanceEvaluator(qrels, measures=[\"ndcg_cut_3\"])\n",
    "\n",
    "# Load run files\n",
    "with open('msmarco-pyserini_bm25.run', 'r') as f:\n",
    "    baseline_run = pytrec_eval.parse_run(f)\n",
    "\n",
    "# Choose the dpr run\n",
    "with open('dpr_results.run', 'r') as f:\n",
    "    dpr_run = pytrec_eval.parse_run(f)\n",
    "\n",
    "# Evaluate runs\n",
    "baseline_results = evaluator.evaluate(baseline_run)\n",
    "dpr_results = evaluator.evaluate(dpr_run)\n",
    "\n",
    "# Extract NDCG@10 scores\n",
    "measure = \"ndcg_cut_3\"\n",
    "baseline_scores = {query: results[measure] for query, results in baseline_results.items()}\n",
    "dpr_scores = {query: results[measure] for query, results in dpr_results.items()}\n",
    "\n",
    "# Calculate differences\n",
    "differences = []\n",
    "queries = []\n",
    "for query in baseline_scores.keys():\n",
    "    if query in dpr_scores:\n",
    "        diff = dpr_scores[query] - baseline_scores[query]\n",
    "        differences.append(diff)\n",
    "        queries.append(query)\n",
    "\n",
    "# Sort differences for gain-loss plot\n",
    "sorted_indices = np.argsort(differences)\n",
    "sorted_differences = np.array(differences)[sorted_indices]\n",
    "sorted_queries = np.array(queries)[sorted_indices]\n",
    "\n",
    "# Create gain-loss plot\n",
    "plt.figure(figsize=(12, 6))\n",
    "plt.bar(range(len(sorted_differences)), sorted_differences)\n",
    "plt.axhline(y=0, color='r', linestyle='-', linewidth=0.5)\n",
    "plt.title(\"Gain-Loss Plot: BM25 vs. DPR\")\n",
    "plt.xlabel(\"Queries\")\n",
    "plt.ylabel(\"Gain/Loss in NDCG@3\")\n",
    "plt.xticks([])  # Remove x-axis labels for clarity\n",
    "plt.tight_layout()\n",
    "plt.show()\n",
    "\n",
    "# Print average difference\n",
    "avg_diff = np.mean(differences)\n",
    "print(f\"Average gain in NDCG@3: {avg_diff:.4f}\")"
   ]
  },
  {
   "cell_type": "code",
   "execution_count": 23,
   "id": "a5fda273-8c16-476f-9cdc-7ea45280b361",
   "metadata": {},
   "outputs": [
    {
     "data": {
      "image/png": "[encoded data removed]",
      "text/plain": [
       "<Figure size 1200x600 with 1 Axes>"
      ]
     },
     "metadata": {},
     "output_type": "display_data"
    },
    {
     "name": "stdout",
     "output_type": "stream",
     "text": [
      "Average gain in NDCG@3: 0.2897\n"
     ]
    }
   ],
   "source": [
    "import pytrec_eval\n",
    "import numpy as np\n",
    "import matplotlib.pyplot as plt\n",
    "\n",
    "# Load qrels\n",
    "with open('./infs7410_project_part_2_collection/sampled_qrels.txt', 'r') as f:\n",
    "    qrels = pytrec_eval.parse_qrel(f)\n",
    "\n",
    "# Initialize evaluator\n",
    "evaluator = pytrec_eval.RelevanceEvaluator(qrels, measures=[\"ndcg_cut_3\"])\n",
    "\n",
    "# Load run files\n",
    "with open('msmarco-pyserini_bm25.run', 'r') as f:\n",
    "    baseline_run = pytrec_eval.parse_run(f)\n",
    "\n",
    "# Choose the tildev2 run\n",
    "with open('tildev2_results.run', 'r') as f:\n",
    "    tildev2_run = pytrec_eval.parse_run(f)\n",
    "\n",
    "# Evaluate runs\n",
    "baseline_results = evaluator.evaluate(baseline_run)\n",
    "tildev2_results = evaluator.evaluate(tildev2_run)\n",
    "\n",
    "# Extract NDCG@10 scores\n",
    "measure = \"ndcg_cut_3\"\n",
    "baseline_scores = {query: results[measure] for query, results in baseline_results.items()}\n",
    "tildev2_scores = {query: results[measure] for query, results in tildev2_results.items()}\n",
    "\n",
    "# Calculate differences\n",
    "differences = []\n",
    "queries = []\n",
    "for query in baseline_scores.keys():\n",
    "    if query in tildev2_scores:\n",
    "        diff = tildev2_scores[query] - baseline_scores[query]\n",
    "        differences.append(diff)\n",
    "        queries.append(query)\n",
    "\n",
    "# Sort differences for gain-loss plot\n",
    "sorted_indices = np.argsort(differences)\n",
    "sorted_differences = np.array(differences)[sorted_indices]\n",
    "sorted_queries = np.array(queries)[sorted_indices]\n",
    "\n",
    "# Create gain-loss plot\n",
    "plt.figure(figsize=(12, 6))\n",
    "plt.bar(range(len(sorted_differences)), sorted_differences)\n",
    "plt.axhline(y=0, color='r', linestyle='-', linewidth=0.5)\n",
    "plt.title(\"Gain-Loss Plot: BM25 vs. TILDEv2\")\n",
    "plt.xlabel(\"Queries\")\n",
    "plt.ylabel(\"Gain/Loss in NDCG@3\")\n",
    "plt.xticks([])  # Remove x-axis labels for clarity\n",
    "plt.tight_layout()\n",
    "plt.show()\n",
    "\n",
    "# Print average difference\n",
    "avg_diff = np.mean(differences)\n",
    "print(f\"Average gain in NDCG@3: {avg_diff:.4f}\")"
   ]
  },
  {
   "cell_type": "code",
   "execution_count": 25,
   "id": "ba4bca39-be93-493b-99a9-d84dad5946a4",
   "metadata": {},
   "outputs": [
    {
     "data": {
      "image/png": "[encoded data removed]",
      "text/plain": [
       "<Figure size 1200x600 with 1 Axes>"
      ]
     },
     "metadata": {},
     "output_type": "display_data"
    },
    {
     "name": "stdout",
     "output_type": "stream",
     "text": [
      "Average gain in NDCG@3: 0.3176\n"
     ]
    }
   ],
   "source": [
    "import pytrec_eval\n",
    "import numpy as np\n",
    "import matplotlib.pyplot as plt\n",
    "\n",
    "# Load  qrels\n",
    "with open('./infs7410_project_part_2_collection/sampled_qrels.txt', 'r') as f:\n",
    "    qrels = pytrec_eval.parse_qrel(f)\n",
    "\n",
    "# Initialize evaluator\n",
    "evaluator = pytrec_eval.RelevanceEvaluator(qrels, measures=[\"ndcg_cut_3\"])\n",
    "\n",
    "# Load run files\n",
    "with open('msmarco-pyserini_bm25.run', 'r') as f:\n",
    "    baseline_run = pytrec_eval.parse_run(f)\n",
    "\n",
    "# Choose the cross_encoder_minilm_pairwise_rerank run\n",
    "with open('cross_encoder_minilm_pairwise_rerank.run', 'r') as f:\n",
    "    cross_encoder_minilm_pairwise_rerank_run = pytrec_eval.parse_run(f)\n",
    "\n",
    "# Evaluate runs\n",
    "baseline_results = evaluator.evaluate(baseline_run)\n",
    "cross_encoder_minilm_pairwise_rerank = evaluator.evaluate(cross_encoder_minilm_pairwise_rerank_run)\n",
    "\n",
    "# Extract NDCG@10 scores\n",
    "measure = \"ndcg_cut_3\"\n",
    "baseline_scores = {query: results[measure] for query, results in baseline_results.items()}\n",
    "cross_encoder_minilm_pairwise_rerank_scores = {query: results[measure] for query, results in cross_encoder_minilm_pairwise_rerank.items()}\n",
    "\n",
    "# Calculate differences\n",
    "differences = []\n",
    "queries = []\n",
    "for query in baseline_scores.keys():\n",
    "    if query in cross_encoder_minilm_pairwise_rerank_scores:\n",
    "        diff = cross_encoder_minilm_pairwise_rerank_scores[query] - baseline_scores[query]\n",
    "        differences.append(diff)\n",
    "        queries.append(query)\n",
    "\n",
    "# Sort differences for gain-loss plot\n",
    "sorted_indices = np.argsort(differences)\n",
    "sorted_differences = np.array(differences)[sorted_indices]\n",
    "sorted_queries = np.array(queries)[sorted_indices]\n",
    "\n",
    "# Create gain-loss plot\n",
    "plt.figure(figsize=(12, 6))\n",
    "plt.bar(range(len(sorted_differences)), sorted_differences)\n",
    "plt.axhline(y=0, color='r', linestyle='-', linewidth=0.5)\n",
    "plt.title(\"Gain-Loss Plot: BM25 vs. cross_encoder_minilm_pairwise_rerank\")\n",
    "plt.xlabel(\"Queries\")\n",
    "plt.ylabel(\"Gain/Loss in NDCG@3\")\n",
    "plt.xticks([])  # Remove x-axis labels for clarity\n",
    "plt.tight_layout()\n",
    "plt.show()\n",
    "\n",
    "# Print average difference\n",
    "avg_diff = np.mean(differences)\n",
    "print(f\"Average gain in NDCG@3: {avg_diff:.4f}\")"
   ]
  },
  {
   "cell_type": "code",
   "execution_count": 27,
   "id": "ac597f4e-8b8b-41bb-8b8a-498671563716",
   "metadata": {},
   "outputs": [
    {
     "data": {
      "image/png": "[encoded data removed]",
      "text/plain": [
       "<Figure size 1200x600 with 1 Axes>"
      ]
     },
     "metadata": {},
     "output_type": "display_data"
    },
    {
     "name": "stdout",
     "output_type": "stream",
     "text": [
      "Average gain in NDCG@3: 0.3176\n"
     ]
    }
   ],
   "source": [
    "import pytrec_eval\n",
    "import numpy as np\n",
    "import matplotlib.pyplot as plt\n",
    "\n",
    "# Load  qrels\n",
    "with open('./infs7410_project_part_2_collection/sampled_qrels.txt', 'r') as f:\n",
    "    qrels = pytrec_eval.parse_qrel(f)\n",
    "\n",
    "# Initialize evaluator\n",
    "evaluator = pytrec_eval.RelevanceEvaluator(qrels, measures=[\"ndcg_cut_3\"])\n",
    "\n",
    "# Load run files\n",
    "with open('msmarco-pyserini_bm25.run', 'r') as f:\n",
    "    baseline_run = pytrec_eval.parse_run(f)\n",
    "\n",
    "# Choose the cross_encoder_minilm_pointwise_rerank run\n",
    "with open('cross_encoder_minilm_pointwise_rerank.run', 'r') as f:\n",
    "    cross_encoder_minilm_pointwise_rerank_run = pytrec_eval.parse_run(f)\n",
    "\n",
    "# Evaluate runs\n",
    "baseline_results = evaluator.evaluate(baseline_run)\n",
    "cross_encoder_minilm_pointwise_rerank = evaluator.evaluate(cross_encoder_minilm_pointwise_rerank_run)\n",
    "\n",
    "# Extract NDCG@10 scores\n",
    "measure = \"ndcg_cut_3\"\n",
    "baseline_scores = {query: results[measure] for query, results in baseline_results.items()}\n",
    "cross_encoder_minilm_pointwise_rerank_scores = {query: results[measure] for query, results in cross_encoder_minilm_pointwise_rerank.items()}\n",
    "\n",
    "# Calculate differences\n",
    "differences = []\n",
    "queries = []\n",
    "for query in baseline_scores.keys():\n",
    "    if query in cross_encoder_minilm_pointwise_rerank_scores:\n",
    "        diff = cross_encoder_minilm_pointwise_rerank_scores[query] - baseline_scores[query]\n",
    "        differences.append(diff)\n",
    "        queries.append(query)\n",
    "\n",
    "# Sort differences for gain-loss plot\n",
    "sorted_indices = np.argsort(differences)\n",
    "sorted_differences = np.array(differences)[sorted_indices]\n",
    "sorted_queries = np.array(queries)[sorted_indices]\n",
    "\n",
    "# Create gain-loss plot\n",
    "plt.figure(figsize=(12, 6))\n",
    "plt.bar(range(len(sorted_differences)), sorted_differences)\n",
    "plt.axhline(y=0, color='r', linestyle='-', linewidth=0.5)\n",
    "plt.title(\"Gain-Loss Plot: BM25 vs. cross_encoder_minilm_pointwise_rerank\")\n",
    "plt.xlabel(\"Queries\")\n",
    "plt.ylabel(\"Gain/Loss in NDCG@3\")\n",
    "plt.xticks([])  # Remove x-axis labels for clarity\n",
    "plt.tight_layout()\n",
    "plt.show()\n",
    "\n",
    "# Print average difference\n",
    "avg_diff = np.mean(differences)\n",
    "print(f\"Average gain in NDCG@3: {avg_diff:.4f}\")"
   ]
  },
  {
   "cell_type": "markdown",
   "id": "9d5486da-b2a4-44a9-bf38-02dc91e9ce72",
   "metadata": {
    "id": "9d5486da-b2a4-44a9-bf38-02dc91e9ce72"
   },
   "source": [
    "## 1.4 Discussions for Task 1\n"
   ]
  },
  {
   "cell_type": "markdown",
   "id": "eb25833b-919f-442f-81b0-f8b523278d62",
   "metadata": {
    "id": "eb25833b-919f-442f-81b0-f8b523278d62"
   },
   "source": [
    "Our evaluation of the neural retrieval models (DPR and TILDEv2) against the traditional BM25 baseline on the MS MARCO dataset reveals several interesting trends:\n",
    "\n",
    "| Model | Mean nDCG@3 | Improvement over BM25 | t-statistic | p-value | Significance |\n",
    "|-------|-------------|----------------------|-------------|---------|--------------|\n",
    "| BM25 (baseline) | 0.4753 | - | - | - | - |\n",
    "| DPR | 0.4731 | -0.0022 | 0.0323 | 0.9750 | (not significant) |\n",
    "| TILDEv2 | 0.7650 | +0.2897 | -3.1011 | 0.0127 | * (p < 0.05) |\n",
    "| Cross-Encoder MiniLM Pointwise | 0.7929 | +0.3176 | -3.3308 | 0.0088 | ** (p < 0.01) |\n",
    "| Cross-Encoder MiniLM Pairwise | 0.7929 | +0.3176 | -3.3308 | 0.0088 | ** (p < 0.01) |\n",
    "\n",
    "1. **BM25 vs. DPR**:\n",
    "   - BM25, our baseline method, achieves a mean nDCG@3 of 0.4753.\n",
    "   - Surprisingly, DPR slightly underperforms BM25 with a mean nDCG@3 of 0.4731, a marginal decrease of 0.0022.\n",
    "   - However, this difference is not statistically significant (p-value = 0.9750), suggesting that DPR's performance is essentially on par with BM25 for this task.\n",
    "\n",
    "2. **TILDEv2 Performance**:\n",
    "   - TILDEv2 demonstrates a substantial improvement over both BM25 and DPR, achieving a mean nDCG@3 of 0.7650.\n",
    "   - This represents a significant 60.95% improvement over the BM25 baseline.\n",
    "   - The improvement is statistically significant (p-value = 0.0127, p < 0.05), providing strong evidence for TILDEv2's superior performance.\n",
    "\n",
    "3. **Neural Model Comparison**:\n",
    "   - While both DPR and TILDEv2 are neural models, their performance differs dramatically in this evaluation.\n",
    "   - TILDEv2 significantly outperforms DPR, suggesting that its architecture or training approach is more effective for this specific task.\n",
    "\n",
    "4. **Consistency across Queries**:\n",
    "   - Without detailed per-query results for DPR, it's challenging to assess query-level consistency.\n",
    "   - However, the high mean nDCG@3 for TILDEv2 suggests it performs well across a range of queries.\n",
    "\n",
    "Bonus Task - Cross-Encoder Reranking:\n",
    "\n",
    "As an additional experiment, we applied Cross-Encoder MiniLM models (both Pointwise and Pairwise) to rerank TILDEv2 results:\n",
    "\n",
    "- Both Cross-Encoder approaches achieved an identical mean nDCG@3 of 0.7929.\n",
    "- This represents a further improvement of 3.65% over TILDEv2's already strong performance.\n",
    "- The improvement over the BM25 baseline is statistically significant at the p < 0.01 level.\n",
    "- Interestingly, Pointwise and Pairwise approaches yielded identical results, suggesting that for this dataset and model, the choice between these reranking paradigms doesn't impact performance.\n",
    "\n",
    "In conclusion, among the primary models evaluated, TILDEv2 emerges as the most effective, significantly outperforming both the BM25 baseline and DPR. The bonus Cross-Encoder reranking task demonstrates the potential for further improvements, highlighting the power of combining initial retrieval with sophisticated reranking techniques."
   ]
  },
  {
   "cell_type": "markdown",
   "id": "7f113ca5-e057-43a0-942f-8eaf5d06c17e",
   "metadata": {},
   "source": [
    "The gain-loss plots provide a visual representation of the performance differences between the models across the individual queries. Here's how they complement the statistical analysis you've presented:\n",
    "\n",
    "Image 1 and Image 2 show the gain-loss plots for the cross-encoder reranking models compared to BM25. The plots illustrate the wide range of performance differences, with some queries showing large positive gains and others smaller gains or even losses. This aligns with the statistically significant improvements observed for the cross-encoder models.\n",
    "\n",
    "Image 3 and Image 4 show the gain-loss plots for DPR and TILDEv2 compared to BM25. The DPR plot reflects the lack of a statistically significant difference, with the gains and losses clustered around 0. In contrast, the TILDEv2 plot demonstrates a clear and consistent performance advantage, with the majority of queries exhibiting substantial positive gains.\n",
    "\n",
    "These gain-loss plots provide valuable context to the numerical results, allowing us to visualize the model performance at the query level. They help identify the extent of the performance differences, as well as any potential outliers or inconsistencies in the models' behavior across the dataset.\n",
    "\n",
    "Together, the statistical analysis and the gain-loss visualizations offer a comprehensive understanding of the relative strengths and weaknesses of the evaluated retrieval models on the MS MARCO dataset."
   ]
  },
  {
   "cell_type": "markdown",
   "id": "ada667e6-6653-4e76-93aa-8a105c4a7571",
   "metadata": {},
   "source": [
    "______________________________________________________________________________________________________________________________"
   ]
  },
  {
   "cell_type": "markdown",
   "id": "94053de3-8daa-4975-8d5d-d8ffbc3e5a46",
   "metadata": {
    "id": "94053de3-8daa-4975-8d5d-d8ffbc3e5a46",
    "pycharm": {
     "name": "#%%\n"
    }
   },
   "source": [
    "# Task-2: *Exploring Generative models*\n",
    "In this part, put any result table and analysis with respect to retrieval effectiveness, comparison of methods, statistical-test and Gain-loss plot."
   ]
  },
  {
   "cell_type": "markdown",
   "id": "ecda1880-0c86-446e-a2d2-bdc70514cfeb",
   "metadata": {
    "id": "ecda1880-0c86-446e-a2d2-bdc70514cfeb"
   },
   "source": [
    "## 2.1 RAG Implementation with TinyLlama\n"
   ]
  },
  {
   "cell_type": "code",
   "execution_count": 30,
   "id": "13b5a960-31e1-48fc-be38-3f9d4fb0db84",
   "metadata": {},
   "outputs": [
    {
     "name": "stdout",
     "output_type": "stream",
     "text": [
      "Using device: mps\n",
      "Loading data...\n"
     ]
    },
    {
     "name": "stderr",
     "output_type": "stream",
     "text": [
      "Loading msmarco-pyserini_bm25.run: 100 lines [00:00, 244423.31 lines/s]\n",
      "Loading tildev2_results.run: 100 lines [00:00, 292489.82 lines/s]\n",
      "Loading dpr_results.run: 100 lines [00:00, 131896.35 lines/s]\n",
      "Loading collection: 5853 documents [00:00, 82400.53 documents/s]\n",
      "Loading queries: 10 queries [00:00, 44667.77 queries/s]"
     ]
    },
    {
     "name": "stdout",
     "output_type": "stream",
     "text": [
      "Loading TinyLlama model and tokenizer...\n"
     ]
    },
    {
     "name": "stderr",
     "output_type": "stream",
     "text": [
      "\n"
     ]
    },
    {
     "name": "stdout",
     "output_type": "stream",
     "text": [
      "Performing RAG for each query...\n"
     ]
    },
    {
     "name": "stderr",
     "output_type": "stream",
     "text": [
      "Processing queries: 100%|██████████| 10/10 [12:30<00:00, 75.06s/ queries]"
     ]
    },
    {
     "name": "stdout",
     "output_type": "stream",
     "text": [
      "Saving results...\n",
      "RAG process completed. Results saved in 'rag_results.json'.\n"
     ]
    },
    {
     "name": "stderr",
     "output_type": "stream",
     "text": [
      "\n"
     ]
    }
   ],
   "source": [
    "import json\n",
    "from collections import defaultdict\n",
    "from transformers import AutoTokenizer, AutoModelForCausalLM\n",
    "import torch\n",
    "from tqdm import tqdm\n",
    "\n",
    "# Determine the appropriate device\n",
    "if torch.backends.mps.is_available():\n",
    "    device = torch.device(\"mps\")\n",
    "elif torch.cuda.is_available():\n",
    "    device = torch.device(\"cuda\")\n",
    "else:\n",
    "    device = torch.device(\"cpu\")\n",
    "print(f\"Using device: {device}\")\n",
    "\n",
    "# Load the necessary data\n",
    "def load_run_file(file_path):\n",
    "    results = defaultdict(list)\n",
    "    with open(file_path, 'r') as f:\n",
    "        for line in tqdm(f, desc=f\"Loading {file_path}\", unit=\" lines\"):\n",
    "            qid, _, doc_id, rank, score, _ = line.strip().split()\n",
    "            if int(rank) <= 3:  # We only need top 3\n",
    "                results[qid].append(doc_id)\n",
    "    return results\n",
    "\n",
    "def load_collection(file_path):\n",
    "    collection = {}\n",
    "    with open(file_path, 'r') as f:\n",
    "        for line in tqdm(f, desc=\"Loading collection\", unit=\" documents\"):\n",
    "            data = json.loads(line)\n",
    "            collection[data['id']] = data['contents']\n",
    "    return collection\n",
    "\n",
    "def load_queries(file_path):\n",
    "    queries = {}\n",
    "    with open(file_path, 'r', newline='', encoding='utf-8') as f:\n",
    "        for line in tqdm(f, desc=\"Loading queries\", unit=\" queries\"):\n",
    "            qid, query_text = line.strip().split('\\t')\n",
    "            queries[qid] = query_text\n",
    "    return queries\n",
    "\n",
    "# Load data\n",
    "print(\"Loading data...\")\n",
    "traditional_results = load_run_file('msmarco-pyserini_bm25.run')\n",
    "tildev2_results = load_run_file('tildev2_results.run')\n",
    "dpr_results = load_run_file('dpr_results.run')\n",
    "collection = load_collection('./infs7410_project_part_2_collection/sampled_collection.jsonl')\n",
    "queries = load_queries('./infs7410_project_part_2_collection/sampled_queries.tsv')\n",
    "\n",
    "# Load TinyLlama model and tokenizer\n",
    "print(\"Loading TinyLlama model and tokenizer...\")\n",
    "model_name = \"TinyLlama/TinyLlama-1.1B-Chat-v1.0\"\n",
    "tokenizer = AutoTokenizer.from_pretrained(model_name)\n",
    "model = AutoModelForCausalLM.from_pretrained(model_name, torch_dtype=torch.float32 if device.type == 'mps' else torch.bfloat16)\n",
    "model = model.to(device)\n",
    "\n",
    "def generate_answer(query, docs, model, tokenizer):\n",
    "    context = \" \".join([collection[doc_id] for doc_id in docs])\n",
    "    messages = [\n",
    "        {\"role\": \"system\", \"content\": \"You are a helpful assistant. Answer the question based on the provided context.\"},\n",
    "        {\"role\": \"user\", \"content\": f\"Context: {context}\\n\\nQuestion: {query}\"}\n",
    "    ]\n",
    "    prompt = tokenizer.apply_chat_template(messages, tokenize=False, add_generation_prompt=True)\n",
    "    inputs = tokenizer(prompt, return_tensors=\"pt\", truncation=True, max_length=2048).to(device)\n",
    "    \n",
    "    with torch.no_grad():\n",
    "        outputs = model.generate(**inputs, max_new_tokens=256, do_sample=True, temperature=0.7, top_k=50, top_p=0.95)\n",
    "    \n",
    "    response = tokenizer.decode(outputs[0][inputs.input_ids.shape[1]:], skip_special_tokens=True)\n",
    "    return response.strip()\n",
    "\n",
    "# Perform RAG for each query\n",
    "results = {}\n",
    "print(\"Performing RAG for each query...\")\n",
    "for qid, query in tqdm(queries.items(), desc=\"Processing queries\", unit=\" queries\"):\n",
    "    traditional_docs = traditional_results.get(qid, [])\n",
    "    tildev2_docs = tildev2_results.get(qid, [])\n",
    "    dpr_docs = dpr_results.get(qid, [])\n",
    "    \n",
    "    if traditional_docs and tildev2_docs and dpr_docs:\n",
    "        traditional_answer = generate_answer(query, traditional_docs, model, tokenizer)\n",
    "        tildev2_answer = generate_answer(query, tildev2_docs, model, tokenizer)\n",
    "        dpr_answer = generate_answer(query, dpr_docs, model, tokenizer)\n",
    "        \n",
    "        results[qid] = {\n",
    "            \"query\": query,\n",
    "            \"traditional_answer\": traditional_answer,\n",
    "            \"tildev2_answer\": tildev2_answer,\n",
    "            \"dpr_answer\": dpr_answer\n",
    "        }\n",
    "\n",
    "# Save results\n",
    "print(\"Saving results...\")\n",
    "with open('rag_results.json', 'w') as f:\n",
    "    json.dump(results, f, indent=2)\n",
    "\n",
    "print(\"RAG process completed. Results saved in 'rag_results.json'.\")"
   ]
  },
  {
   "cell_type": "markdown",
   "id": "f22a7787-bf92-4a1f-b923-b76bae20e9ec",
   "metadata": {},
   "source": [
    "## What the RAG output looks like"
   ]
  },
  {
   "cell_type": "code",
   "execution_count": 36,
   "id": "56154e3e-2a3f-4405-9aeb-82708394e9a5",
   "metadata": {},
   "outputs": [
    {
     "name": "stdout",
     "output_type": "stream",
     "text": [
      "{\n",
      "  \"156493\": {\n",
      "    \"query\": \"do goldfish grow\",\n",
      "    \"traditional_answer\": \"The context provided does not mention the size of goldfish. The answer is that goldfish do not grow to the size of their tank. This myth originated from the assumption that goldfish grow to the size of their tank, which is not the case. Goldfish grow until they are at their mature size, which can be determined by their physical characteristics. While some goldfish can grow to be larger than 4-6 inches, the tank size is what determines their growth potential. Goldfish should be kept in a tank that is at least 20 gallons in size, allowing them enough room to grow and thrive. The more space you give them, the faster they will grow.\",\n",
      "    \"tildev2_answer\": \"The provided context states that goldfish can grow well over 12 inches, fancier varieties like ranchus, lionhead, and orandas can grow over 10 inches, and other fancy varieties like ryukins, black moors, fantails, etc. Can grow over 6-7 inches. The largest goldfish ever recorded was 16 inches, which was kept at a higher temperature and required additional space, air bubbles, and a good filtration system. Overall, goldfish can grow over 23 inches and may live up to 20 years in optimal conditions, with the world record for goldfish living for over 49 years.\",\n",
      "    \"dpr_answer\": \"Based on the provided context, the goldfish is a freshwater fish in the family Cyprinidae of order Cypriniformes. It is a relatively small member of the carp family, native to East Asia, and has been selectively bred in China for over a thousand years. Goldfish are domesticated, with most adult goldfish not stopping growing once they reach a certain size.\"\n",
      "  }\n",
      "}\n"
     ]
    }
   ],
   "source": [
    "import json\n",
    "\n",
    "with open('rag_results.json', 'r') as f:\n",
    "    rag_results = json.load(f)\n",
    "\n",
    "top_2_entries = dict(list(rag_results.items())[:1])\n",
    "\n",
    "\n",
    "print(json.dumps(top_2_entries, indent=2))"
   ]
  },
  {
   "cell_type": "markdown",
   "id": "1c68ad05-bc2f-482f-b326-37d1a76e54a9",
   "metadata": {},
   "source": [
    "## 2.2 RAG Evaluation Methods"
   ]
  },
  {
   "cell_type": "markdown",
   "id": "1567aa03-dea7-438a-ad56-c051402f2bc2",
   "metadata": {},
   "source": [
    "### 2.2.1 Method 1: LLM-based Relevance Assessment [1] [2]"
   ]
  },
  {
   "cell_type": "markdown",
   "id": "391010d1-8c3d-45e3-884c-84ddf87e3bbd",
   "metadata": {},
   "source": [
    "\n",
    "### Description\n",
    "This evaluation method leverages Large Language Models (LLMs) for automated relevance assessment of RAG-generated answers. It's an efficient and scalable approach that mimics human judgment while providing consistent results across a large dataset.\n",
    "\n",
    "### Components\n",
    "1. LLM Evaluation\n",
    "   - Description: Uses an advanced LLM (Claude in this case) to evaluate RAG-generated answers\n",
    "   - Calculation: Scores are given on a 1-10 scale based on clear criteria for different score ranges\n",
    "\n",
    "2. Multi-aspect Assessment\n",
    "   - Description: Captures nuanced aspects of answer quality, including relevance, correctness, and comprehensiveness\n",
    "\n",
    "3. Structured Prompt\n",
    "   - Description: A carefully designed prompt instructs the LLM on how to perform the evaluation\n",
    "\n",
    "4. Multiple Method Comparison\n",
    "   - Description: Provides scores for answers generated by different methods (traditional, TILDEv2, and DPR)\n",
    "\n",
    "### Scoring\n",
    "- Answers are evaluated on a 1-10 scale\n",
    "1. Evaluate each answer on a 1-10 scale, with clear criteria for different score ranges.\n",
    "2. Provide scores for answers generated by each method (traditional, TILDEv2, and DPR).\n",
    "3. Offer a brief analysis of the results for each query.\n",
    "4. Format the output as a JSON object for easy parsing and further analysis\n",
    "\n",
    "### Rationale\n",
    "This method is effective for evaluating RAG-generated answers because:\n",
    "1. It can capture nuanced aspects of answer quality that are challenging to assess with traditional automated metrics\n",
    "2. It provides consistent results across a large dataset\n",
    "3. It mimics human judgment, potentially offering more accurate and comprehensive evaluations\n",
    "\n",
    "### Limitations\n",
    "- Potential biases inherent in the LLM used for evaluation\n",
    "- Dependency on the quality and specificity of the prompt given to the LLM\n",
    "- May require significant computational resources for large-scale evaluations\n",
    "\n"
   ]
  },
  {
   "cell_type": "markdown",
   "id": "1bd3260f-197a-42d9-aa76-15dff299da62",
   "metadata": {},
   "source": [
    "#### Prompt given : "
   ]
  },
  {
   "cell_type": "raw",
   "id": "3359146a-c164-41a2-9ba2-aafb0a31cf4f",
   "metadata": {},
   "source": [
    "You are an expert in evaluating natural language generation and information retrieval systems. I will provide you with a JSON file containing queries and their corresponding answers generated by different retrieval methods. Your task is to:\n",
    "1. Evaluate each answer on a scale of 1-10, where:\n",
    "   1-3: Poor (irrelevant or incorrect)\n",
    "   4-6: Fair (partially relevant or partially correct)\n",
    "   7-8: Good (mostly relevant and correct)\n",
    "   9-10: Excellent (highly relevant, correct, and comprehensive)\n",
    "2. Provide a brief one-sentence analysis of the results for each query.\n",
    "For each query, assign scores to the traditional_answer, tildev2_answer, and dpr_answer. Justify your reasoning for each score.\n",
    "Here's the format to use for your response:\n",
    "{\n",
    "  \"query_id\": {\n",
    "    \"query\": \"The original query\",\n",
    "    \"traditional_score\": X,\n",
    "    \"tildev2_score\": Y,\n",
    "    \"dpr_score\": Z,\n",
    "    \"analysis\": \"Brief one-sentence analysis of the results.\"\n",
    "  }\n",
    "}\n",
    "Please provide your evaluation for all queries in the JSON file. Ensure your response is in valid JSON format so it can be easily parsed and used for further analysis."
   ]
  },
  {
   "cell_type": "markdown",
   "id": "61eb4b5e-0f75-4a23-a98a-7fc5e5f3a5cc",
   "metadata": {},
   "source": [
    "#### Answer from Claude: 3.5 Sonnet:"
   ]
  },
  {
   "cell_type": "raw",
   "id": "86b6e2be-1d5b-43de-8200-00b120ed6bb8",
   "metadata": {},
   "source": [
    "Here is my evaluation of the query results in JSON format:\n",
    "\n",
    "{\n",
    "  \"1\": {\n",
    "    \"query\": \"causes of left ventricular hypertrophy\",\n",
    "    \"traditional_score\": 6,\n",
    "    \"tildev2_score\": 8,\n",
    "    \"dpr_score\": 7,\n",
    "    \"analysis\": \"The tildev2 answer provides the most comprehensive and accurate explanation of the causes of left ventricular hypertrophy, while the other answers offer partial information.\"\n",
    "  },\n",
    "  \"2\": {\n",
    "    \"query\": \"cost of interior concrete flooring\",\n",
    "    \"traditional_score\": 4,\n",
    "    \"tildev2_score\": 9,\n",
    "    \"dpr_score\": 7,\n",
    "    \"analysis\": \"The tildev2 answer gives the most relevant and detailed information about concrete flooring costs, while the traditional answer focuses on ceramic tile instead.\"\n",
    "  },\n",
    "  \"3\": {\n",
    "    \"query\": \"definition declaratory judgment\",\n",
    "    \"traditional_score\": 8,\n",
    "    \"tildev2_score\": 9,\n",
    "    \"dpr_score\": 3,\n",
    "    \"analysis\": \"The tildev2 answer provides the most concise and accurate definition, while the traditional answer offers good detail but is less focused, and the dpr answer fails to provide a clear definition.\"\n",
    "  },\n",
    "  \"4\": {\n",
    "    \"query\": \"difference between rn and bsn\",\n",
    "    \"traditional_score\": 5,\n",
    "    \"tildev2_score\": 9,\n",
    "    \"dpr_score\": 7,\n",
    "    \"analysis\": \"The tildev2 answer clearly explains the difference between RN and BSN, while the other answers provide less focused or partially incorrect information.\"\n",
    "  },\n",
    "  \"5\": {\n",
    "    \"query\": \"do goldfish grow\",\n",
    "    \"traditional_score\": 4,\n",
    "    \"tildev2_score\": 9,\n",
    "    \"dpr_score\": 5,\n",
    "    \"analysis\": \"The tildev2 answer provides specific information about goldfish growth, while the traditional answer contradicts itself and the dpr answer is vague.\"\n",
    "  },\n",
    "  \"6\": {\n",
    "    \"query\": \"example of monotonic function\",\n",
    "    \"traditional_score\": 6,\n",
    "    \"tildev2_score\": 8,\n",
    "    \"dpr_score\": 7,\n",
    "    \"analysis\": \"The tildev2 answer provides a clear definition and example of a monotonic function, while the other answers offer good information but are less focused on providing a specific example.\"\n",
    "  },\n",
    "  \"7\": {\n",
    "    \"query\": \"rsa definition key\",\n",
    "    \"traditional_score\": 8,\n",
    "    \"tildev2_score\": 7,\n",
    "    \"dpr_score\": 5,\n",
    "    \"analysis\": \"The traditional answer provides the most comprehensive explanation of RSA keys, while the tildev2 answer focuses more on the general concept, and the dpr answer is less relevant.\"\n",
    "  },\n",
    "  \"8\": {\n",
    "    \"query\": \"what is wifi vs bluetooth\",\n",
    "    \"traditional_score\": 3,\n",
    "    \"tildev2_score\": 9,\n",
    "    \"dpr_score\": 6,\n",
    "    \"analysis\": \"The tildev2 answer provides a clear and comprehensive comparison of WiFi and Bluetooth, while the traditional answer is largely irrelevant, and the dpr answer is less focused.\"\n",
    "  },\n",
    "  \"9\": {\n",
    "    \"query\": \"tracheids are part of _____.\",\n",
    "    \"traditional_score\": 4,\n",
    "    \"tildev2_score\": 9,\n",
    "    \"dpr_score\": 8,\n",
    "    \"analysis\": \"The tildev2 answer correctly identifies tracheids as part of the xylem with additional context, while the dpr answer is concise but accurate, and the traditional answer provides incomplete information.\"\n",
    "  },\n",
    "  \"10\": {\n",
    "    \"query\": \"hydrogen is a liquid below what temperature\",\n",
    "    \"traditional_score\": 7,\n",
    "    \"tildev2_score\": 9,\n",
    "    \"dpr_score\": 6,\n",
    "    \"analysis\": \"The tildev2 answer provides the most accurate and detailed information about hydrogen's liquid state, while the traditional answer is correct but less precise, and the dpr answer contains relevant information but doesn't directly answer the question.\"\n",
    "  }\n",
    "}"
   ]
  },
  {
   "cell_type": "markdown",
   "id": "a0113469-d7f2-4b36-b03c-01178c61e877",
   "metadata": {},
   "source": [
    "### Correlation plot for method 1"
   ]
  },
  {
   "cell_type": "code",
   "execution_count": 64,
   "id": "00554a09-2f01-4cfd-8cb2-623c4f3cf7a7",
   "metadata": {},
   "outputs": [
    {
     "data": {
      "image/png": "[encoded data removed]",
      "text/plain": [
       "<Figure size 1000x800 with 1 Axes>"
      ]
     },
     "metadata": {},
     "output_type": "display_data"
    },
    {
     "name": "stdout",
     "output_type": "stream",
     "text": [
      "The correlation coefficient is: 2.1955\n"
     ]
    }
   ],
   "source": [
    "import matplotlib.pyplot as plt\n",
    "import numpy as np\n",
    "\n",
    "# nDCG@3 values\n",
    "ndcg_cut_3_traditional = [0.8100, 0.3129, 0.5680, 0.1697, 0.0000, 0.6667, 0.3129, 0.6480, 0.5000, 0.7654]\n",
    "ndcg_cut_3_tildev2 = [0.8100, 0.5680, 1.0000, 0.6606, 1.0000, 0.8231, 0.4115, 0.8520, 0.5249, 1.0000]\n",
    "\n",
    "# Evaluation scores from my previous assessment\n",
    "eval_traditional = [6, 4, 8, 5, 4, 6, 8, 3, 4, 7]\n",
    "eval_tildev2 = [8, 9, 9, 9, 9, 8, 7, 9, 9, 9]\n",
    "\n",
    "# Calculate the differences\n",
    "ndcg_diff = [x - y for x, y in zip(ndcg_cut_3_tildev2, ndcg_cut_3_traditional)]\n",
    "eval_diff = [x - y for x, y in zip(eval_tildev2, eval_traditional)]\n",
    "\n",
    "# Create the correlation plot\n",
    "plt.figure(figsize=(10, 8))\n",
    "plt.scatter(ndcg_diff, eval_diff)\n",
    "plt.xlabel(\"nDCG@3 Difference (TILDEv2 vs. Traditional)\")\n",
    "plt.ylabel(\"Evaluation Score Difference (TILDEv2 vs. Traditional)\")\n",
    "plt.title(\"Correlation between nDCG@3 Difference and Evaluation Score Difference\")\n",
    "plt.grid(True)\n",
    "\n",
    "# Add a trend line\n",
    "m, b = np.polyfit(ndcg_diff, eval_diff, 1)\n",
    "plt.plot(ndcg_diff, m * np.array(ndcg_diff) + b, color='red')\n",
    "\n",
    "# Add labels for each point\n",
    "for i, (x, y) in enumerate(zip(ndcg_diff, eval_diff)):\n",
    "    plt.annotate(f\"Query {i+1}\", (x, y), textcoords=\"offset points\", xytext=(0,10), ha='center')\n",
    "\n",
    "plt.tight_layout()\n",
    "plt.show()\n",
    "\n",
    "print(f\"The correlation coefficient is: {m:.4f}\")"
   ]
  },
  {
   "cell_type": "markdown",
   "id": "a079a00f-6ef5-400d-b656-ff4704de5561",
   "metadata": {},
   "source": [
    "The correlation plot reveals a strong positive relationship between improvements in nDCG@3 scores and human evaluation scores when comparing TILDEv2 to the traditional method. TILDEv2 consistently outperforms the traditional approach across most queries in both metrics, though the magnitude of improvement varies. The high correlation coefficient (2.1955) indicates that nDCG@3 is a reliable predictor of human-perceived quality. While one outlier (Query 7) shows divergent results, the overall trend strongly supports TILDEv2's effectiveness. This data not only demonstrates TILDEv2's significant and consistent improvement over the traditional method for various query types but also validates nDCG@3 as an accurate metric for assessing retrieval quality. In summary, the plot provides compelling evidence of TILDEv2's superior performance in information retrieval tasks."
   ]
  },
  {
   "cell_type": "markdown",
   "id": "d5e2e7ce-b72c-4d43-a13c-ddb299375dc7",
   "metadata": {},
   "source": [
    "### 2.2.2 Method 2: Perplexity-Based RAG Output Assessment"
   ]
  },
  {
   "cell_type": "markdown",
   "id": "3534e6ec-7c7e-42f7-b526-46504179a6e8",
   "metadata": {},
   "source": [
    "I chose this approach because perplexity is a well-established metric for assessing language model performance, providing insights into the fluency and predictability of generated text. The method loads pre-existing RAG results and computes perplexity for each generated answer across different retrieval methods (traditional, TILDEv2, and DPR).\n",
    "\n",
    "The compute_perplexity function implements a sliding window approach to handle long sequences, calculating the negative log-likelihood of the text and converting it to perplexity. Lower perplexity scores indicate more predictable (and potentially more fluent) text according to the GPT-2 model.\n",
    "\n",
    "While this method offers a quantitative measure of text quality, it's important to note potential biases. Using GPT-2 as the evaluation model may favor text that aligns with GPT-2's training data and language patterns. Additionally, perplexity doesn't directly measure factual accuracy or relevance to the query, which are crucial aspects of RAG system performance. The method provides valuable insights into language quality but should be considered alongside other evaluation metrics for a comprehensive assessment of RAG system effectiveness."
   ]
  },
  {
   "cell_type": "markdown",
   "id": "e2d67c73-7f71-4fa3-92a2-5e9562788021",
   "metadata": {},
   "source": [
    "\n",
    "### Description\n",
    "This method uses perplexity, a well-established metric for assessing language model performance, to evaluate the fluency and predictability of RAG-generated answers. It provides insights into the quality of generated text across different retrieval methods [2].\n",
    "\n",
    "### Components\n",
    "1. Perplexity Calculation\n",
    "   - Description: Computes perplexity for each generated answer using a sliding window approach\n",
    "   - Calculation: Calculates the negative log-likelihood of the text and converts it to perplexity\n",
    "\n",
    "2. Multi-method Comparison\n",
    "   - Description: Evaluates answers generated by different retrieval methods (traditional, TILDEv2, and DPR)\n",
    "\n",
    "3. GPT-2 Model Evaluation\n",
    "   - Description: Uses the GPT-2 model as the basis for calculating perplexity scores\n",
    "\n",
    "### Scoring\n",
    "- Lower perplexity scores indicate more predictable (and potentially more fluent) text according to the GPT-2 model\n",
    "- The `compute_perplexity` function implements the sliding window approach for handling long sequences\n",
    "\n",
    "### Rationale\n",
    "This method is effective for evaluating RAG-generated answers because:\n",
    "1. Perplexity is a well-established metric for assessing language model performance\n",
    "2. It provides insights into the fluency and predictability of generated text\n",
    "3. It offers a quantitative measure of text quality\n",
    "\n",
    "### Limitations\n",
    "- Using GPT-2 as the evaluation model may favor text that aligns with GPT-2's training data and language patterns\n",
    "- Perplexity doesn't directly measure factual accuracy or relevance to the query\n",
    "- Should be considered alongside other evaluation metrics for a comprehensive assessment\n",
    "\n"
   ]
  },
  {
   "cell_type": "code",
   "execution_count": 56,
   "id": "b803cc83-b0b7-4a93-8e31-1323ad5b4e16",
   "metadata": {
    "collapsed": true,
    "jupyter": {
     "outputs_hidden": true
    },
    "scrolled": true
   },
   "outputs": [
    {
     "name": "stderr",
     "output_type": "stream",
     "text": [
      "huggingface/tokenizers: The current process just got forked, after parallelism has already been used. Disabling parallelism to avoid deadlocks...\n",
      "To disable this warning, you can either:\n",
      "\t- Avoid using `tokenizers` before the fork if possible\n",
      "\t- Explicitly set the environment variable TOKENIZERS_PARALLELISM=(true | false)\n"
     ]
    },
    {
     "name": "stdout",
     "output_type": "stream",
     "text": [
      "Collecting evaluate\n",
      "  Downloading evaluate-0.4.3-py3-none-any.whl.metadata (9.2 kB)\n",
      "Requirement already satisfied: datasets>=2.0.0 in /opt/anaconda3/envs/infs7410/lib/python3.8/site-packages (from evaluate) (3.0.1)\n",
      "Requirement already satisfied: numpy>=1.17 in /opt/anaconda3/envs/infs7410/lib/python3.8/site-packages (from evaluate) (1.24.4)\n",
      "Requirement already satisfied: dill in /opt/anaconda3/envs/infs7410/lib/python3.8/site-packages (from evaluate) (0.3.8)\n",
      "Requirement already satisfied: pandas in /opt/anaconda3/envs/infs7410/lib/python3.8/site-packages (from evaluate) (2.0.3)\n",
      "Requirement already satisfied: requests>=2.19.0 in /opt/anaconda3/envs/infs7410/lib/python3.8/site-packages (from evaluate) (2.32.3)\n",
      "Requirement already satisfied: tqdm>=4.62.1 in /opt/anaconda3/envs/infs7410/lib/python3.8/site-packages (from evaluate) (4.66.4)\n",
      "Requirement already satisfied: xxhash in /opt/anaconda3/envs/infs7410/lib/python3.8/site-packages (from evaluate) (3.5.0)\n",
      "Requirement already satisfied: multiprocess in /opt/anaconda3/envs/infs7410/lib/python3.8/site-packages (from evaluate) (0.70.16)\n",
      "Requirement already satisfied: fsspec>=2021.05.0 in /opt/anaconda3/envs/infs7410/lib/python3.8/site-packages (from fsspec[http]>=2021.05.0->evaluate) (2024.6.1)\n",
      "Requirement already satisfied: huggingface-hub>=0.7.0 in /opt/anaconda3/envs/infs7410/lib/python3.8/site-packages (from evaluate) (0.24.5)\n",
      "Requirement already satisfied: packaging in /opt/anaconda3/envs/infs7410/lib/python3.8/site-packages (from evaluate) (24.1)\n",
      "Requirement already satisfied: filelock in /opt/anaconda3/envs/infs7410/lib/python3.8/site-packages (from datasets>=2.0.0->evaluate) (3.15.4)\n",
      "Requirement already satisfied: pyarrow>=15.0.0 in /opt/anaconda3/envs/infs7410/lib/python3.8/site-packages (from datasets>=2.0.0->evaluate) (17.0.0)\n",
      "Requirement already satisfied: aiohttp in /opt/anaconda3/envs/infs7410/lib/python3.8/site-packages (from datasets>=2.0.0->evaluate) (3.10.8)\n",
      "Requirement already satisfied: pyyaml>=5.1 in /opt/anaconda3/envs/infs7410/lib/python3.8/site-packages (from datasets>=2.0.0->evaluate) (6.0.1)\n",
      "Requirement already satisfied: typing-extensions>=3.7.4.3 in /opt/anaconda3/envs/infs7410/lib/python3.8/site-packages (from huggingface-hub>=0.7.0->evaluate) (4.11.0)\n",
      "Requirement already satisfied: charset-normalizer<4,>=2 in /opt/anaconda3/envs/infs7410/lib/python3.8/site-packages (from requests>=2.19.0->evaluate) (3.3.2)\n",
      "Requirement already satisfied: idna<4,>=2.5 in /opt/anaconda3/envs/infs7410/lib/python3.8/site-packages (from requests>=2.19.0->evaluate) (3.7)\n",
      "Requirement already satisfied: urllib3<3,>=1.21.1 in /opt/anaconda3/envs/infs7410/lib/python3.8/site-packages (from requests>=2.19.0->evaluate) (2.2.2)\n",
      "Requirement already satisfied: certifi>=2017.4.17 in /opt/anaconda3/envs/infs7410/lib/python3.8/site-packages (from requests>=2.19.0->evaluate) (2024.7.4)\n",
      "Requirement already satisfied: python-dateutil>=2.8.2 in /opt/anaconda3/envs/infs7410/lib/python3.8/site-packages (from pandas->evaluate) (2.9.0.post0)\n",
      "Requirement already satisfied: pytz>=2020.1 in /opt/anaconda3/envs/infs7410/lib/python3.8/site-packages (from pandas->evaluate) (2024.1)\n",
      "Requirement already satisfied: tzdata>=2022.1 in /opt/anaconda3/envs/infs7410/lib/python3.8/site-packages (from pandas->evaluate) (2024.1)\n",
      "Requirement already satisfied: aiohappyeyeballs>=2.3.0 in /opt/anaconda3/envs/infs7410/lib/python3.8/site-packages (from aiohttp->datasets>=2.0.0->evaluate) (2.4.2)\n",
      "Requirement already satisfied: aiosignal>=1.1.2 in /opt/anaconda3/envs/infs7410/lib/python3.8/site-packages (from aiohttp->datasets>=2.0.0->evaluate) (1.3.1)\n",
      "Requirement already satisfied: attrs>=17.3.0 in /opt/anaconda3/envs/infs7410/lib/python3.8/site-packages (from aiohttp->datasets>=2.0.0->evaluate) (23.1.0)\n",
      "Requirement already satisfied: frozenlist>=1.1.1 in /opt/anaconda3/envs/infs7410/lib/python3.8/site-packages (from aiohttp->datasets>=2.0.0->evaluate) (1.4.1)\n",
      "Requirement already satisfied: multidict<7.0,>=4.5 in /opt/anaconda3/envs/infs7410/lib/python3.8/site-packages (from aiohttp->datasets>=2.0.0->evaluate) (6.1.0)\n",
      "Requirement already satisfied: yarl<2.0,>=1.12.0 in /opt/anaconda3/envs/infs7410/lib/python3.8/site-packages (from aiohttp->datasets>=2.0.0->evaluate) (1.13.1)\n",
      "Requirement already satisfied: async-timeout<5.0,>=4.0 in /opt/anaconda3/envs/infs7410/lib/python3.8/site-packages (from aiohttp->datasets>=2.0.0->evaluate) (4.0.3)\n",
      "Requirement already satisfied: six>=1.5 in /opt/anaconda3/envs/infs7410/lib/python3.8/site-packages (from python-dateutil>=2.8.2->pandas->evaluate) (1.16.0)\n",
      "Downloading evaluate-0.4.3-py3-none-any.whl (84 kB)\n",
      "\u001b[2K   \u001b[90m━━━━━━━━━━━━━━━━━━━━━━━━━━━━━━━━━━━━━━━━\u001b[0m \u001b[32m84.0/84.0 kB\u001b[0m \u001b[31m2.6 MB/s\u001b[0m eta \u001b[36m0:00:00\u001b[0m\n",
      "\u001b[?25hInstalling collected packages: evaluate\n",
      "Successfully installed evaluate-0.4.3\n"
     ]
    }
   ],
   "source": [
    "!pip install evaluate"
   ]
  },
  {
   "cell_type": "code",
   "execution_count": 62,
   "id": "7e2bca1f-d558-4f32-843f-f67dafaafdd1",
   "metadata": {},
   "outputs": [
    {
     "name": "stdout",
     "output_type": "stream",
     "text": [
      "Loading GPT-2 model and tokenizer...\n",
      "Loading existing RAG results...\n",
      "Calculating perplexity scores...\n"
     ]
    },
    {
     "name": "stderr",
     "output_type": "stream",
     "text": [
      "Processing queries: 100%|██████████| 10/10 [00:03<00:00,  2.75 queries/s]"
     ]
    },
    {
     "name": "stdout",
     "output_type": "stream",
     "text": [
      "Perplexity evaluation completed. Results saved in 'perplexity_evaluation_results.txt'.\n",
      "\n",
      "Perplexity Scores:\n",
      "Traditional:\n",
      "  Query 1: 12.0339\n",
      "  Query 2: 25.6979\n",
      "  Query 3: 10.3384\n",
      "  Query 4: 10.9936\n",
      "  Query 5: 12.8385\n",
      "  Query 6: 76.2613\n",
      "  Query 7: 22.5094\n",
      "  Query 8: 45.6789\n",
      "  Query 9: 8.6117\n",
      "  Query 10: 83.5049\n",
      "  Average: 30.8469\n",
      "\n",
      "Tildev2:\n",
      "  Query 1: 39.6082\n",
      "  Query 2: 13.6691\n",
      "  Query 3: 12.4907\n",
      "  Query 4: 11.4666\n",
      "  Query 5: 8.3541\n",
      "  Query 6: 35.1978\n",
      "  Query 7: 12.6330\n",
      "  Query 8: 10.5693\n",
      "  Query 9: 13.1456\n",
      "  Query 10: 26.6895\n",
      "  Average: 18.3824\n",
      "\n",
      "Dpr:\n",
      "  Query 1: 19.4645\n",
      "  Query 2: 19.5633\n",
      "  Query 3: 23.3256\n",
      "  Query 4: 9.6911\n",
      "  Query 5: 21.8259\n",
      "  Query 6: 98.5908\n",
      "  Query 7: 27.1018\n",
      "  Query 8: 10.0349\n",
      "  Query 9: 10.0709\n",
      "  Query 10: 13.3251\n",
      "  Average: 25.2994\n",
      "\n"
     ]
    },
    {
     "name": "stderr",
     "output_type": "stream",
     "text": [
      "\n"
     ]
    }
   ],
   "source": [
    "import json\n",
    "from collections import defaultdict\n",
    "from tqdm import tqdm\n",
    "import torch\n",
    "from transformers import GPT2LMHeadModel, GPT2Tokenizer\n",
    "\n",
    "# Load the GPT-2 model and tokenizer\n",
    "print(\"Loading GPT-2 model and tokenizer...\")\n",
    "model_id = \"gpt2\"\n",
    "tokenizer = GPT2Tokenizer.from_pretrained(model_id)\n",
    "model = GPT2LMHeadModel.from_pretrained(model_id)\n",
    "\n",
    "# Use CPU for compatibility\n",
    "device = torch.device(\"cpu\")\n",
    "model.to(device)\n",
    "\n",
    "# Load the existing RAG results\n",
    "print(\"Loading existing RAG results...\")\n",
    "with open('rag_results.json', 'r') as f:\n",
    "    results = json.load(f)\n",
    "\n",
    "# Initialize dictionary to store perplexity scores\n",
    "perplexity_scores = defaultdict(list)\n",
    "\n",
    "def compute_perplexity(text):\n",
    "    encodings = tokenizer(text, return_tensors='pt')\n",
    "    max_length = model.config.n_positions\n",
    "    stride = 512\n",
    "    seq_len = encodings.input_ids.size(1)\n",
    "\n",
    "    nlls = []\n",
    "    for i in range(0, seq_len, stride):\n",
    "        begin_loc = max(i + stride - max_length, 0)\n",
    "        end_loc = min(i + stride, seq_len)\n",
    "        trg_len = end_loc - i\n",
    "        input_ids = encodings.input_ids[:, begin_loc:end_loc].to(device)\n",
    "        target_ids = input_ids.clone()\n",
    "        target_ids[:, :-trg_len] = -100\n",
    "\n",
    "        with torch.no_grad():\n",
    "            outputs = model(input_ids, labels=target_ids)\n",
    "            neg_log_likelihood = outputs.loss * trg_len\n",
    "\n",
    "        nlls.append(neg_log_likelihood)\n",
    "\n",
    "    ppl = torch.exp(torch.stack(nlls).sum() / end_loc)\n",
    "    return ppl.item()\n",
    "\n",
    "print(\"Calculating perplexity scores...\")\n",
    "with open('perplexity_evaluation_results.txt', 'w') as f:\n",
    "    f.write(\"Perplexity Evaluation Results (GPT-2)\\n\\n\")\n",
    "\n",
    "    for qid, data in tqdm(results.items(), desc=\"Processing queries\", unit=\" queries\"):\n",
    "        f.write(f\"Query {qid}:\\n\")\n",
    "\n",
    "        for method in ['traditional', 'tildev2', 'dpr']:\n",
    "            answer = data[f'{method}_answer']\n",
    "            perplexity_score = compute_perplexity(answer)\n",
    "            perplexity_scores[method].append(perplexity_score)\n",
    "\n",
    "            f.write(f\"{method.capitalize()} perplexity: {perplexity_score:.4f}\\n\")\n",
    "\n",
    "        f.write(\"\\n\")\n",
    "\n",
    "    f.write(\"Average Perplexity Scores:\\n\")\n",
    "    for method, scores in perplexity_scores.items():\n",
    "        avg_score = sum(scores) / len(scores)\n",
    "        f.write(f\"{method.capitalize()}: {avg_score:.4f}\\n\")\n",
    "\n",
    "print(\"Perplexity evaluation completed. Results saved in 'perplexity_evaluation_results.txt'.\")\n",
    "\n",
    "# Print perplexity scores\n",
    "print(\"\\nPerplexity Scores:\")\n",
    "for method, scores in perplexity_scores.items():\n",
    "    print(f\"{method.capitalize()}:\")\n",
    "    for i, score in enumerate(scores):\n",
    "        print(f\"  Query {i+1}: {score:.4f}\")\n",
    "    print(f\"  Average: {sum(scores) / len(scores):.4f}\")\n",
    "    print()"
   ]
  },
  {
   "cell_type": "code",
   "execution_count": 63,
   "id": "22e672f7-0cb7-4e02-9e19-0d76029beec2",
   "metadata": {},
   "outputs": [
    {
     "data": {
      "image/png": "[encoded data removed]",
      "text/plain": [
       "<Figure size 1000x800 with 1 Axes>"
      ]
     },
     "metadata": {},
     "output_type": "display_data"
    },
    {
     "name": "stdout",
     "output_type": "stream",
     "text": [
      "The correlation coefficient is: -0.0291\n"
     ]
    }
   ],
   "source": [
    "import matplotlib.pyplot as plt\n",
    "import numpy as np\n",
    "\n",
    "# nDCG@3 values\n",
    "ndcg_cut_3_traditional = [0.8100, 0.3129, 0.5680, 0.1697, 0.0000, 0.6667, 0.3129, 0.6480, 0.5000, 0.7654]\n",
    "ndcg_cut_3_tildev2 = [0.8100, 0.5680, 1.0000, 0.6606, 1.0000, 0.8231, 0.4115, 0.8520, 0.5249, 1.0000]\n",
    "\n",
    "# Perplexity scores\n",
    "perplexity_traditional = [12.0339, 25.6979, 10.3384, 10.9936, 12.8385, 76.2613, 22.5094, 45.6789, 8.6117, 83.5049]\n",
    "perplexity_tildev2 = [39.6082, 13.6691, 12.4907, 11.4666, 8.3541, 35.1978, 12.6330, 10.5693, 13.1456, 26.6895]\n",
    "\n",
    "# Calculate the differences\n",
    "ndcg_diff = [x - y for x, y in zip(ndcg_cut_3_tildev2, ndcg_cut_3_traditional)]\n",
    "perplexity_diff = [y - x for x, y in zip(perplexity_tildev2, perplexity_traditional)]  # Note: lower perplexity is better, so we flip the subtraction\n",
    "\n",
    "# Create the correlation plot\n",
    "plt.figure(figsize=(10, 8))\n",
    "plt.scatter(ndcg_diff, perplexity_diff)\n",
    "plt.xlabel(\"nDCG@3 Difference (TILDEv2 - Traditional)\")\n",
    "plt.ylabel(\"Perplexity Difference (Traditional - TILDEv2)\")\n",
    "plt.title(\"Correlation between nDCG@3 Difference and Perplexity Difference\")\n",
    "plt.grid(True)\n",
    "\n",
    "# Add a trend line\n",
    "m, b = np.polyfit(ndcg_diff, perplexity_diff, 1)\n",
    "plt.plot(ndcg_diff, m * np.array(ndcg_diff) + b, color='red')\n",
    "\n",
    "# Add labels for each point\n",
    "for i, (x, y) in enumerate(zip(ndcg_diff, perplexity_diff)):\n",
    "    plt.annotate(f\"Query {i+1}\", (x, y), textcoords=\"offset points\", xytext=(0,10), ha='center')\n",
    "\n",
    "plt.tight_layout()\n",
    "plt.show()\n",
    "\n",
    "# Calculate the correlation coefficient\n",
    "correlation = np.corrcoef(ndcg_diff, perplexity_diff)[0, 1]\n",
    "print(f\"The correlation coefficient is: {correlation:.4f}\")"
   ]
  },
  {
   "cell_type": "markdown",
   "id": "3b4f3feb-0e21-4445-b58f-678477cbff22",
   "metadata": {},
   "source": [
    "The correlation plot between nDCG@3 and perplexity differences reveals a complex relationship between retrieval quality and language model prediction for TILDEv2 versus traditional methods. With a near-zero correlation coefficient of -0.0291, there's no clear linear relationship between improvements in these metrics. The widely scattered data points and nearly flat trend line indicate that enhancements in retrieval performance don't consistently correspond to better language model predictions, or vice versa. While TILDEv2 often shows improvements in both metrics, as evidenced by several points in the upper right quadrant, the magnitude and direction of these improvements vary significantly across queries. Notable outliers, such as Queries 6, 8, and 10, demonstrate substantial perplexity improvements for TILDEv2 with varying nDCG@3 changes, further highlighting the nuanced and query-dependent nature of these improvements. This analysis suggests that while TILDEv2 generally enhances performance, the interplay between retrieval quality and language model prediction is intricate and warrants careful consideration on a query-by-query basis."
   ]
  },
  {
   "cell_type": "markdown",
   "id": "96b9ca9d-3990-4268-b48d-415faed6a7b3",
   "metadata": {},
   "source": [
    "### 2.2.3 BONUS Method 3: ROUGE metrics using LLM-Generated References"
   ]
  },
  {
   "cell_type": "markdown",
   "id": "ac39c727-29dc-4941-ab17-618eb18a46c6",
   "metadata": {},
   "source": [
    "\n",
    "### Description\n",
    "A novel approach to evaluate Retrieval-Augmented Generation (RAG) systems using ROUGE (Recall-Oriented Understudy for Gisting Evaluation) scoring with references of truth generated by a large language model (LLM), specifically Claude. This method aims to provide a more nuanced evaluation of RAG systems by leveraging the capabilities of advanced LLMs to generate high-quality reference answers [3].\n",
    "\n",
    "### Components\n",
    "1. Generate Reference Answers\n",
    "   - Description: Use Claude, an advanced LLM, to generate reference answers for a set of test queries\n",
    "   - Purpose: These answers serve as the \"ground truth\" for the evaluation\n",
    "\n",
    "2. RAG System Responses\n",
    "   - Description: Run the test queries through different RAG systems (e.g., traditional, TILDEv2, DPR) to obtain their responses\n",
    "\n",
    "3. ROUGE Scoring\n",
    "   - Description: Calculate ROUGE-L scores between each RAG system's response and the corresponding Claude-generated reference answer\n",
    "   - Focus: ROUGE-L focuses on the longest common subsequence, capturing sentence-level structure similarity\n",
    "\n",
    "4. Comparative Analysis\n",
    "   - Description: Compare the ROUGE-L scores across different RAG systems to evaluate their relative performance\n",
    "\n",
    "### Scoring\n",
    "- ROUGE-L scores are used, focusing on the longest common subsequence\n",
    "- ROUGE typically provides precision, recall, and F1-measure scores\n",
    "- F1-measure (harmonic mean of precision and recall) is often used as a single-number summary of performance\n",
    "\n",
    "### Rationale\n",
    "This method is effective for evaluating RAG-generated answers because:\n",
    "2. ROUGE is a well-established metric in natural language processing\n",
    "3. It allows for comparative analysis across different RAG systems\n",
    "4. It provides a quantitative measure of how closely RAG outputs match LLM-generated references\n",
    "\n",
    "### Limitations\n",
    "1. LLM Bias: The evaluation is inherently biased towards the knowledge and biases of the LLM used to generate reference answers\n",
    "2. Lack of Human Judgment: LLMs may miss nuances or contextual understanding that human experts could provide in certain domains\n",
    "3. ROUGE Limitations: \n",
    "   - Focuses on lexical overlap and doesn't directly measure semantic similarity or factual correctness\n",
    "   - High ROUGE scores don't always correlate with human judgments of quality\n",
    "4. Complementary Metrics Needed: Due to its limitations, ROUGE is often used in conjunction with other metrics or human evaluation for a more comprehensive assessment\n"
   ]
  },
  {
   "cell_type": "code",
   "execution_count": 38,
   "id": "67d7027b-a302-4668-889b-af15941696c1",
   "metadata": {
    "collapsed": true,
    "jupyter": {
     "outputs_hidden": true
    }
   },
   "outputs": [
    {
     "name": "stderr",
     "output_type": "stream",
     "text": [
      "huggingface/tokenizers: The current process just got forked, after parallelism has already been used. Disabling parallelism to avoid deadlocks...\n",
      "To disable this warning, you can either:\n",
      "\t- Avoid using `tokenizers` before the fork if possible\n",
      "\t- Explicitly set the environment variable TOKENIZERS_PARALLELISM=(true | false)\n"
     ]
    },
    {
     "name": "stdout",
     "output_type": "stream",
     "text": [
      "Collecting rouge_score\n",
      "  Downloading rouge_score-0.1.2.tar.gz (17 kB)\n",
      "  Preparing metadata (setup.py) ... \u001b[?25ldone\n",
      "\u001b[?25hCollecting absl-py (from rouge_score)\n",
      "  Downloading absl_py-2.1.0-py3-none-any.whl.metadata (2.3 kB)\n",
      "Collecting nltk (from rouge_score)\n",
      "  Downloading nltk-3.9.1-py3-none-any.whl.metadata (2.9 kB)\n",
      "Requirement already satisfied: numpy in /opt/anaconda3/envs/infs7410/lib/python3.8/site-packages (from rouge_score) (1.24.4)\n",
      "Requirement already satisfied: six>=1.14.0 in /opt/anaconda3/envs/infs7410/lib/python3.8/site-packages (from rouge_score) (1.16.0)\n",
      "Requirement already satisfied: click in /opt/anaconda3/envs/infs7410/lib/python3.8/site-packages (from nltk->rouge_score) (8.1.7)\n",
      "Requirement already satisfied: joblib in /opt/anaconda3/envs/infs7410/lib/python3.8/site-packages (from nltk->rouge_score) (1.4.2)\n",
      "Requirement already satisfied: regex>=2021.8.3 in /opt/anaconda3/envs/infs7410/lib/python3.8/site-packages (from nltk->rouge_score) (2024.7.24)\n",
      "Requirement already satisfied: tqdm in /opt/anaconda3/envs/infs7410/lib/python3.8/site-packages (from nltk->rouge_score) (4.66.4)\n",
      "Downloading absl_py-2.1.0-py3-none-any.whl (133 kB)\n",
      "\u001b[2K   \u001b[90m━━━━━━━━━━━━━━━━━━━━━━━━━━━━━━━━━━━━━━━━\u001b[0m \u001b[32m133.7/133.7 kB\u001b[0m \u001b[31m3.1 MB/s\u001b[0m eta \u001b[36m0:00:00\u001b[0m00:01\u001b[0m\n",
      "\u001b[?25hDownloading nltk-3.9.1-py3-none-any.whl (1.5 MB)\n",
      "\u001b[2K   \u001b[90m━━━━━━━━━━━━━━━━━━━━━━━━━━━━━━━━━━━━━━━━\u001b[0m \u001b[32m1.5/1.5 MB\u001b[0m \u001b[31m5.9 MB/s\u001b[0m eta \u001b[36m0:00:00\u001b[0m00:01\u001b[0m00:01\u001b[0m\n",
      "\u001b[?25hBuilding wheels for collected packages: rouge_score\n",
      "  Building wheel for rouge_score (setup.py) ... \u001b[?25ldone\n",
      "\u001b[?25h  Created wheel for rouge_score: filename=rouge_score-0.1.2-py3-none-any.whl size=24934 sha256=ef7a6d41f6c6cc25c00e0c829bbf0f13b132fc5ec7d288a2ea80ab6befafb734\n",
      "  Stored in directory: /Users/alveeahnaf/Library/Caches/pip/wheels/24/55/6f/ebfc4cb176d1c9665da4e306e1705496206d08215c1acd9dde\n",
      "Successfully built rouge_score\n",
      "Installing collected packages: nltk, absl-py, rouge_score\n",
      "Successfully installed absl-py-2.1.0 nltk-3.9.1 rouge_score-0.1.2\n"
     ]
    }
   ],
   "source": [
    "!pip install rouge_score"
   ]
  },
  {
   "cell_type": "code",
   "execution_count": 45,
   "id": "74fb4303-7ed5-44c1-a5f5-d596fd4e39a4",
   "metadata": {},
   "outputs": [
    {
     "name": "stdout",
     "output_type": "stream",
     "text": [
      "Loading existing RAG results...\n",
      "Loading Claude's answers...\n",
      "Calculating ROUGE-L scores...\n"
     ]
    },
    {
     "name": "stderr",
     "output_type": "stream",
     "text": [
      "Processing queries: 100%|██████████| 10/10 [00:00<00:00, 116.30 queries/s]"
     ]
    },
    {
     "name": "stdout",
     "output_type": "stream",
     "text": [
      "ROUGE-L evaluation completed. Results saved in 'rouge_l_evaluation_results.txt'.\n",
      "\n",
      "ROUGE-L Scores:\n",
      "Traditional:\n",
      "  Query 1: 0.2105\n",
      "  Query 2: 0.1469\n",
      "  Query 3: 0.2674\n",
      "  Query 4: 0.1915\n",
      "  Query 5: 0.2019\n",
      "  Query 6: 0.0000\n",
      "  Query 7: 0.1760\n",
      "  Query 8: 0.2034\n",
      "  Query 9: 0.2687\n",
      "  Query 10: 0.1159\n",
      "  Average: 0.1782\n",
      "\n",
      "Tildev2:\n",
      "  Query 1: 0.2619\n",
      "  Query 2: 0.2787\n",
      "  Query 3: 0.3566\n",
      "  Query 4: 0.3263\n",
      "  Query 5: 0.3304\n",
      "  Query 6: 0.0000\n",
      "  Query 7: 0.3511\n",
      "  Query 8: 0.2721\n",
      "  Query 9: 0.2178\n",
      "  Query 10: 0.3087\n",
      "  Average: 0.2704\n",
      "\n",
      "Dpr:\n",
      "  Query 1: 0.1642\n",
      "  Query 2: 0.1818\n",
      "  Query 3: 0.2418\n",
      "  Query 4: 0.2203\n",
      "  Query 5: 0.2045\n",
      "  Query 6: 0.0000\n",
      "  Query 7: 0.2903\n",
      "  Query 8: 0.1829\n",
      "  Query 9: 0.2360\n",
      "  Query 10: 0.1991\n",
      "  Average: 0.1921\n",
      "\n"
     ]
    },
    {
     "name": "stderr",
     "output_type": "stream",
     "text": [
      "\n"
     ]
    }
   ],
   "source": [
    "import json\n",
    "from collections import defaultdict\n",
    "from rouge_score import rouge_scorer\n",
    "from tqdm import tqdm\n",
    "\n",
    "# Initialize ROUGE scorer (only ROUGE-L)\n",
    "scorer = rouge_scorer.RougeScorer(['rougeL'], use_stemmer=True)\n",
    "\n",
    "# Load the existing RAG results\n",
    "print(\"Loading existing RAG results...\")\n",
    "with open('rag_results.json', 'r') as f:\n",
    "    results = json.load(f)\n",
    "\n",
    "# Load Claude's answers\n",
    "print(\"Loading Claude's answers...\")\n",
    "with open('claude_answers.json', 'r') as f:\n",
    "    claude_answers = json.load(f)\n",
    "\n",
    "# Initialize dictionary to store ROUGE scores\n",
    "rouge_scores = defaultdict(list)\n",
    "\n",
    "print(\"Calculating ROUGE-L scores...\")\n",
    "with open('rouge_l_evaluation_results.txt', 'w') as f:\n",
    "    f.write(\"ROUGE-L Evaluation Results\\n\\n\")\n",
    "    \n",
    "    for qid, data in tqdm(results.items(), desc=\"Processing queries\", unit=\" queries\"):\n",
    "        query = data['query']\n",
    "        claude_answer = claude_answers.get(query, \"\")  # Get Claude's answer for this query\n",
    "        \n",
    "        f.write(f\"Query: {query}\\n\")\n",
    "        f.write(f\"Claude's answer: {claude_answer}\\n\\n\")\n",
    "        \n",
    "        for method in ['traditional', 'tildev2', 'dpr']:\n",
    "            answer = data[f'{method}_answer']\n",
    "            scores = scorer.score(claude_answer, answer)\n",
    "            rouge_l_score = scores['rougeL'].fmeasure\n",
    "            rouge_scores[method].append(rouge_l_score)\n",
    "            \n",
    "            f.write(f\"{method.capitalize()} answer: {answer}\\n\")\n",
    "            f.write(f\"ROUGE-L score: {rouge_l_score:.4f}\\n\\n\")\n",
    "        \n",
    "        f.write(\"-\" * 80 + \"\\n\\n\")\n",
    "    \n",
    "    f.write(\"Average ROUGE-L Scores:\\n\")\n",
    "    for method, score_list in rouge_scores.items():\n",
    "        avg_score = sum(score_list) / len(score_list)\n",
    "        f.write(f\"{method.capitalize()}: {avg_score:.4f}\\n\")\n",
    "\n",
    "print(\"ROUGE-L evaluation completed. Results saved in 'rouge_l_evaluation_results.txt'.\")\n",
    "\n",
    "# Print ROUGE-L scores\n",
    "print(\"\\nROUGE-L Scores:\")\n",
    "for method, scores in rouge_scores.items():\n",
    "    print(f\"{method.capitalize()}:\")\n",
    "    for i, score in enumerate(scores):\n",
    "        print(f\"  Query {i+1}: {score:.4f}\")\n",
    "    print(f\"  Average: {sum(scores) / len(scores):.4f}\")\n",
    "    print()"
   ]
  },
  {
   "cell_type": "markdown",
   "id": "ed4764fa-c8bb-408c-9b8e-e7bb52c42874",
   "metadata": {},
   "source": [
    "### Correlation plot for method 2"
   ]
  },
  {
   "cell_type": "code",
   "execution_count": 46,
   "id": "fa91a097-c71a-4301-8fbf-b20b858a0b5a",
   "metadata": {},
   "outputs": [
    {
     "data": {
      "image/png": "[encoded data removed]",
      "text/plain": [
       "<Figure size 1000x800 with 1 Axes>"
      ]
     },
     "metadata": {},
     "output_type": "display_data"
    },
    {
     "name": "stdout",
     "output_type": "stream",
     "text": [
      "The correlation coefficient is: 0.3689\n"
     ]
    }
   ],
   "source": [
    "import matplotlib.pyplot as plt\n",
    "import numpy as np\n",
    "\n",
    "# nDCG@3 values\n",
    "ndcg_cut_3_traditional = [0.8100, 0.3129, 0.5680, 0.1697, 0.0000, 0.6667, 0.3129, 0.6480, 0.5000, 0.7654]\n",
    "ndcg_cut_3_tildev2 = [0.8100, 0.5680, 1.0000, 0.6606, 1.0000, 0.8231, 0.4115, 0.8520, 0.5249, 1.0000]\n",
    "\n",
    "# Updated ROUGE-L scores\n",
    "rouge_l_traditional = [0.2105, 0.1469, 0.2674, 0.1915, 0.2019, 0.0000, 0.1760, 0.2034, 0.2687, 0.1159]\n",
    "rouge_l_tildev2 = [0.2619, 0.2787, 0.3566, 0.3263, 0.3304, 0.0000, 0.3511, 0.2721, 0.2178, 0.3087]\n",
    "\n",
    "# Calculate the differences\n",
    "ndcg_diff = [x - y for x, y in zip(ndcg_cut_3_tildev2, ndcg_cut_3_traditional)]\n",
    "rouge_diff = [x - y for x, y in zip(rouge_l_tildev2, rouge_l_traditional)]\n",
    "\n",
    "# Create the correlation plot\n",
    "plt.figure(figsize=(10, 8))\n",
    "plt.scatter(ndcg_diff, rouge_diff)\n",
    "plt.xlabel(\"nDCG@3 Difference (TILDEv2 - Traditional)\")\n",
    "plt.ylabel(\"ROUGE-L Difference (TILDEv2 - Traditional)\")\n",
    "plt.title(\"Correlation between nDCG@3 Difference and ROUGE-L Difference\")\n",
    "plt.grid(True)\n",
    "\n",
    "# Add a trend line\n",
    "m, b = np.polyfit(ndcg_diff, rouge_diff, 1)\n",
    "plt.plot(ndcg_diff, m * np.array(ndcg_diff) + b, color='red')\n",
    "\n",
    "# Add labels for each point\n",
    "for i, (x, y) in enumerate(zip(ndcg_diff, rouge_diff)):\n",
    "    plt.annotate(f\"Query {i+1}\", (x, y), textcoords=\"offset points\", xytext=(0,10), ha='center')\n",
    "\n",
    "plt.tight_layout()\n",
    "plt.show()\n",
    "\n",
    "# Calculate the correlation coefficient\n",
    "correlation = np.corrcoef(ndcg_diff, rouge_diff)[0, 1]\n",
    "print(f\"The correlation coefficient is: {correlation:.4f}\")"
   ]
  },
  {
   "cell_type": "markdown",
   "id": "8a2956d7-9719-431d-8504-6a27f1738dfc",
   "metadata": {},
   "source": [
    "The correlation plot reveals a moderate positive relationship between the nDCG@3 difference and ROUGE-L difference, with a correlation coefficient of 0.3689. This suggests that as the retrieval performance (measured by nDCG@3) of TILDEv2 improves over the traditional method, there is a tendency for the answer quality (measured by ROUGE-L) to improve as well. However, the relationship is not strong, indicating that better retrieval doesn't always translate directly to better answer generation. There's considerable scatter in the data points, with some queries (e.g., Query 7 and Query 10) showing larger improvements in ROUGE-L scores than their nDCG@3 differences would suggest, while others (e.g., Query 9) show a decrease in ROUGE-L despite an increase in nDCG@3. Query 5 stands out with the largest improvement in both metrics. The plot also shows that TILDEv2 generally outperforms the traditional method on both metrics for most queries, as evidenced by the majority of points being in the positive quadrant. This analysis suggests that while TILDEv2 tends to improve both retrieval and generation performance, the relationship between these improvements is complex and varies across different queries."
   ]
  },
  {
   "cell_type": "markdown",
   "id": "ae0037ad-99d3-4a17-88f4-10a9d8dc2252",
   "metadata": {},
   "source": [
    "### 2.2.4 BONUS Method 4: BLEU-based Evaluation "
   ]
  },
  {
   "cell_type": "markdown",
   "id": "61da5a29-96e7-453c-8ec4-1e1f42cc6640",
   "metadata": {},
   "source": [
    "\n",
    "### Description\n",
    "This method uses BLEU (Bilingual Evaluation Understudy) scores to evaluate RAG-generated answers against references generated by an advanced LLM (Claude). BLEU is traditionally used for machine translation evaluation but is adapted here to assess the quality of RAG outputs by measuring their similarity to high-quality LLM-generated reference answers [4].\n",
    "\n",
    "### Components\n",
    "1. Reference Answers Generation\n",
    "   - Description: Use Claude, an advanced LLM, to generate reference answers for a set of test queries\n",
    "   - Purpose: These answers serve as the \"ground truth\" for the evaluation\n",
    "\n",
    "2. RAG System Responses\n",
    "   - Description: Obtain responses from different RAG systems (traditional, TILDEv2, DPR) for the same set of queries\n",
    "\n",
    "3. BLEU Scoring\n",
    "   - Description: Calculate BLEU scores between each RAG system's response and the corresponding Claude-generated reference answer\n",
    "   - Implementation: Use the SacreBLEU library for consistent and standardized BLEU score calculation\n",
    "\n",
    "4. Comparative Analysis\n",
    "   - Description: Compare the BLEU scores across different RAG systems (traditional, TILDEv2, DPR) to evaluate their relative performance\n",
    "\n",
    "### Scoring\n",
    "- BLEU scores are calculated for each query and each RAG method\n",
    "- Scores range from 0 to 100, with higher scores indicating better performance\n",
    "- Average BLEU scores are computed for each RAG method across all queries\n",
    "\n",
    "### Rationale\n",
    "This method is effective for evaluating RAG-generated answers because:\n",
    "1. It leverages BLEU, a well-established metric in machine translation and text generation evaluation\n",
    "2. It allows for quantitative comparison of RAG outputs against high-quality LLM-generated references\n",
    "3. It provides a standardized measure of similarity in terms of precision, focusing on n-gram overlap\n",
    "4. It enables systematic comparison across different RAG approaches\n",
    "\n",
    "### Limitations\n",
    "1. BLEU Limitations:\n",
    "   - Focuses on precision and n-gram overlap, which may not capture all aspects of answer quality\n",
    "   - May not adequately assess semantic similarity or factual correctness\n",
    "   - Can be sensitive to differences in phrasing that don't affect meaning\n",
    "2. Context Insensitivity: BLEU doesn't account for the appropriateness of the answer in the context of the query\n",
    "3. Complementary Metrics Needed: Should be used in conjunction with other evaluation methods for a comprehensive assessment\n"
   ]
  },
  {
   "cell_type": "code",
   "execution_count": 52,
   "id": "537be49e-415c-4996-8384-3652d9f34816",
   "metadata": {
    "collapsed": true,
    "jupyter": {
     "outputs_hidden": true
    },
    "scrolled": true
   },
   "outputs": [
    {
     "name": "stderr",
     "output_type": "stream",
     "text": [
      "huggingface/tokenizers: The current process just got forked, after parallelism has already been used. Disabling parallelism to avoid deadlocks...\n",
      "To disable this warning, you can either:\n",
      "\t- Avoid using `tokenizers` before the fork if possible\n",
      "\t- Explicitly set the environment variable TOKENIZERS_PARALLELISM=(true | false)\n"
     ]
    },
    {
     "name": "stdout",
     "output_type": "stream",
     "text": [
      "Collecting sacrebleu\n",
      "  Downloading sacrebleu-2.4.3-py3-none-any.whl.metadata (51 kB)\n",
      "\u001b[2K     \u001b[90m━━━━━━━━━━━━━━━━━━━━━━━━━━━━━━━━━━━━━━━━\u001b[0m \u001b[32m51.8/51.8 kB\u001b[0m \u001b[31m2.5 MB/s\u001b[0m eta \u001b[36m0:00:00\u001b[0m\n",
      "\u001b[?25hCollecting portalocker (from sacrebleu)\n",
      "  Downloading portalocker-2.10.1-py3-none-any.whl.metadata (8.5 kB)\n",
      "Requirement already satisfied: regex in /opt/anaconda3/envs/infs7410/lib/python3.8/site-packages (from sacrebleu) (2024.7.24)\n",
      "Collecting tabulate>=0.8.9 (from sacrebleu)\n",
      "  Downloading tabulate-0.9.0-py3-none-any.whl.metadata (34 kB)\n",
      "Requirement already satisfied: numpy>=1.17 in /opt/anaconda3/envs/infs7410/lib/python3.8/site-packages (from sacrebleu) (1.24.4)\n",
      "Collecting colorama (from sacrebleu)\n",
      "  Downloading colorama-0.4.6-py2.py3-none-any.whl.metadata (17 kB)\n",
      "Collecting lxml (from sacrebleu)\n",
      "  Downloading lxml-5.3.0.tar.gz (3.7 MB)\n",
      "\u001b[2K     \u001b[90m━━━━━━━━━━━━━━━━━━━━━━━━━━━━━━━━━━━━━━━━\u001b[0m \u001b[32m3.7/3.7 MB\u001b[0m \u001b[31m6.4 MB/s\u001b[0m eta \u001b[36m0:00:00\u001b[0m00:01\u001b[0m00:01\u001b[0m\n",
      "\u001b[?25h  Installing build dependencies ... \u001b[?25ldone\n",
      "\u001b[?25h  Getting requirements to build wheel ... \u001b[?25ldone\n",
      "\u001b[?25h  Preparing metadata (pyproject.toml) ... \u001b[?25ldone\n",
      "\u001b[?25hDownloading sacrebleu-2.4.3-py3-none-any.whl (103 kB)\n",
      "\u001b[2K   \u001b[90m━━━━━━━━━━━━━━━━━━━━━━━━━━━━━━━━━━━━━━━━\u001b[0m \u001b[32m104.0/104.0 kB\u001b[0m \u001b[31m2.9 MB/s\u001b[0m eta \u001b[36m0:00:00\u001b[0m\n",
      "\u001b[?25hDownloading tabulate-0.9.0-py3-none-any.whl (35 kB)\n",
      "Downloading colorama-0.4.6-py2.py3-none-any.whl (25 kB)\n",
      "Downloading portalocker-2.10.1-py3-none-any.whl (18 kB)\n",
      "Building wheels for collected packages: lxml\n",
      "  Building wheel for lxml (pyproject.toml) ... \u001b[?25ldone\n",
      "\u001b[?25h  Created wheel for lxml: filename=lxml-5.3.0-cp38-cp38-macosx_11_0_arm64.whl size=1402092 sha256=665a5b13c74c7b61d1fc4f50d1e5346dd114e1cd4782af002055e4ffb3586eae\n",
      "  Stored in directory: /Users/alveeahnaf/Library/Caches/pip/wheels/37/19/50/80ff9642d74365e416a0b370a5784afd3167f4e1182644c30b\n",
      "Successfully built lxml\n",
      "Installing collected packages: tabulate, portalocker, lxml, colorama, sacrebleu\n",
      "Successfully installed colorama-0.4.6 lxml-5.3.0 portalocker-2.10.1 sacrebleu-2.4.3 tabulate-0.9.0\n"
     ]
    }
   ],
   "source": [
    "!pip install sacrebleu"
   ]
  },
  {
   "cell_type": "code",
   "execution_count": 53,
   "id": "7ddc6528-22c2-4f8d-a1dd-1b54e134667f",
   "metadata": {},
   "outputs": [
    {
     "name": "stdout",
     "output_type": "stream",
     "text": [
      "Loading existing RAG results...\n",
      "Loading Claude's answers...\n",
      "Calculating BLEU scores...\n"
     ]
    },
    {
     "name": "stderr",
     "output_type": "stream",
     "text": [
      "Processing queries: 100%|██████████| 10/10 [00:00<00:00, 399.31 queries/s]"
     ]
    },
    {
     "name": "stdout",
     "output_type": "stream",
     "text": [
      "BLEU evaluation completed. Results saved in 'bleu_evaluation_results.txt'.\n",
      "\n",
      "BLEU Scores:\n",
      "Traditional:\n",
      "  Query 1: 10.3294\n",
      "  Query 2: 0.8727\n",
      "  Query 3: 4.4577\n",
      "  Query 4: 6.3302\n",
      "  Query 5: 4.0217\n",
      "  Query 6: 0.0000\n",
      "  Query 7: 2.4116\n",
      "  Query 8: 4.7985\n",
      "  Query 9: 11.4708\n",
      "  Query 10: 0.6653\n",
      "  Average: 4.5358\n",
      "\n",
      "Tildev2:\n",
      "  Query 1: 6.8010\n",
      "  Query 2: 10.1956\n",
      "  Query 3: 10.2292\n",
      "  Query 4: 13.0166\n",
      "  Query 5: 11.5039\n",
      "  Query 6: 0.0000\n",
      "  Query 7: 12.5554\n",
      "  Query 8: 6.6560\n",
      "  Query 9: 4.9520\n",
      "  Query 10: 9.0330\n",
      "  Average: 8.4943\n",
      "\n",
      "Dpr:\n",
      "  Query 1: 1.4034\n",
      "  Query 2: 6.2712\n",
      "  Query 3: 8.9236\n",
      "  Query 4: 1.2323\n",
      "  Query 5: 6.5534\n",
      "  Query 6: 0.0000\n",
      "  Query 7: 9.8815\n",
      "  Query 8: 4.6782\n",
      "  Query 9: 9.0240\n",
      "  Query 10: 4.8158\n",
      "  Average: 5.2783\n",
      "\n"
     ]
    },
    {
     "name": "stderr",
     "output_type": "stream",
     "text": [
      "\n"
     ]
    }
   ],
   "source": [
    "import json\n",
    "from collections import defaultdict\n",
    "from tqdm import tqdm\n",
    "from sacrebleu.metrics import BLEU\n",
    "\n",
    "# Load the existing RAG results\n",
    "print(\"Loading existing RAG results...\")\n",
    "with open('rag_results.json', 'r') as f:\n",
    "    results = json.load(f)\n",
    "\n",
    "# Load Claude's answers\n",
    "print(\"Loading Claude's answers...\")\n",
    "with open('claude_answers.json', 'r') as f:\n",
    "    claude_answers = json.load(f)\n",
    "\n",
    "# Initialize BLEU scorer\n",
    "bleu = BLEU()\n",
    "\n",
    "# Initialize dictionary to store BLEU scores\n",
    "bleu_scores = defaultdict(list)\n",
    "\n",
    "print(\"Calculating BLEU scores...\")\n",
    "with open('bleu_evaluation_results.txt', 'w') as f:\n",
    "    f.write(\"BLEU Evaluation Results\\n\\n\")\n",
    "\n",
    "    for qid, data in tqdm(results.items(), desc=\"Processing queries\", unit=\" queries\"):\n",
    "        query = data['query']\n",
    "        claude_answer = claude_answers.get(query, \"\")  # Get Claude's answer for this query\n",
    "\n",
    "        f.write(f\"Query {qid}:\\n\")\n",
    "\n",
    "        for method in ['traditional', 'tildev2', 'dpr']:\n",
    "            answer = data[f'{method}_answer']\n",
    "            bleu_score = bleu.corpus_score([answer], [[claude_answer]]).score\n",
    "            bleu_scores[method].append(bleu_score)\n",
    "\n",
    "            f.write(f\"{method.capitalize()} BLEU score: {bleu_score:.4f}\\n\")\n",
    "\n",
    "        f.write(\"\\n\")\n",
    "\n",
    "    f.write(\"Average BLEU Scores:\\n\")\n",
    "    for method, score_list in bleu_scores.items():\n",
    "        avg_score = sum(score_list) / len(score_list)\n",
    "        f.write(f\"{method.capitalize()}: {avg_score:.4f}\\n\")\n",
    "\n",
    "print(\"BLEU evaluation completed. Results saved in 'bleu_evaluation_results.txt'.\")\n",
    "\n",
    "# Print BLEU scores\n",
    "print(\"\\nBLEU Scores:\")\n",
    "for method, scores in bleu_scores.items():\n",
    "    print(f\"{method.capitalize()}:\")\n",
    "    for i, score in enumerate(scores):\n",
    "        print(f\"  Query {i+1}: {score:.4f}\")\n",
    "    print(f\"  Average: {sum(scores) / len(scores):.4f}\")\n",
    "    print()"
   ]
  },
  {
   "cell_type": "code",
   "execution_count": 54,
   "id": "99cbb751-1e42-4e1c-a664-103f481a3378",
   "metadata": {},
   "outputs": [
    {
     "data": {
      "image/png": "[encoded data removed]",
      "text/plain": [
       "<Figure size 1000x800 with 1 Axes>"
      ]
     },
     "metadata": {},
     "output_type": "display_data"
    },
    {
     "name": "stdout",
     "output_type": "stream",
     "text": [
      "The correlation coefficient is: 0.4825\n"
     ]
    }
   ],
   "source": [
    "import matplotlib.pyplot as plt\n",
    "import numpy as np\n",
    "\n",
    "# nDCG@3 values\n",
    "ndcg_cut_3_traditional = [0.8100, 0.3129, 0.5680, 0.1697, 0.0000, 0.6667, 0.3129, 0.6480, 0.5000, 0.7654]\n",
    "ndcg_cut_3_tildev2 = [0.8100, 0.5680, 1.0000, 0.6606, 1.0000, 0.8231, 0.4115, 0.8520, 0.5249, 1.0000]\n",
    "\n",
    "# BLEU scores\n",
    "bleu_traditional = [10.3294, 0.8727, 4.4577, 6.3302, 4.0217, 0.0000, 2.4116, 4.7985, 11.4708, 0.6653]\n",
    "bleu_tildev2 = [6.8010, 10.1956, 10.2292, 13.0166, 11.5039, 0.0000, 12.5554, 6.6560, 4.9520, 9.0330]\n",
    "\n",
    "# Calculate the differences\n",
    "ndcg_diff = [x - y for x, y in zip(ndcg_cut_3_tildev2, ndcg_cut_3_traditional)]\n",
    "bleu_diff = [x - y for x, y in zip(bleu_tildev2, bleu_traditional)]\n",
    "\n",
    "# Create the correlation plot\n",
    "plt.figure(figsize=(10, 8))\n",
    "plt.scatter(ndcg_diff, bleu_diff)\n",
    "plt.xlabel(\"nDCG@3 Difference (TILDEv2 - Traditional)\")\n",
    "plt.ylabel(\"BLEU Score Difference (TILDEv2 - Traditional)\")\n",
    "plt.title(\"Correlation between nDCG@3 Difference and BLEU Score Difference\")\n",
    "plt.grid(True)\n",
    "\n",
    "# Add a trend line\n",
    "m, b = np.polyfit(ndcg_diff, bleu_diff, 1)\n",
    "plt.plot(ndcg_diff, m * np.array(ndcg_diff) + b, color='red')\n",
    "\n",
    "# Add labels for each point\n",
    "for i, (x, y) in enumerate(zip(ndcg_diff, bleu_diff)):\n",
    "    plt.annotate(f\"Query {i+1}\", (x, y), textcoords=\"offset points\", xytext=(0,10), ha='center')\n",
    "\n",
    "plt.tight_layout()\n",
    "plt.show()\n",
    "\n",
    "# Calculate the correlation coefficient\n",
    "correlation = np.corrcoef(ndcg_diff, bleu_diff)[0, 1]\n",
    "print(f\"The correlation coefficient is: {correlation:.4f}\")"
   ]
  },
  {
   "cell_type": "markdown",
   "id": "6d032930-65b7-4aee-8786-5a265cb8bf11",
   "metadata": {},
   "source": [
    "#### How does retrieval effectiveness impact the quality of the generated responses, and why?\n",
    "\n",
    "Retrieval effectiveness greatly impacts the quality of generated responses by providing the foundation for accurate and relevant information processing. Better retrieval ensures that the language model has access to more precise, contextually appropriate, and comprehensive data, which directly enhances the accuracy and depth of its outputs. This improved information base reduces the likelihood of hallucinations or factual errors, enables more nuanced reasoning, and allows for more up-to-date and well-rounded responses. Effective retrieval also supports the handling of complex queries by supplying relevant information for each aspect of the question. Ultimately, the quality of retrieved information acts as a crucial input that shapes the model's ability to generate insightful, accurate, and valuable responses, making it a critical factor in the overall performance of AI-driven question-answering and content generation systems."
   ]
  },
  {
   "cell_type": "markdown",
   "id": "a85a030d-59f1-488c-9fb7-29a3340338fd",
   "metadata": {},
   "source": [
    "#### Note on Using advanced LLM's for Ground Truth Generation\n",
    "\n",
    "Using Claude, an advanced language model, to generate ground truth references for evaluation offers several advantages over solely human-typed references. Claude can provide consistent, high-quality answers across a wide range of topics at scale, without the fatigue or time constraints that human annotators might face. Moreover, as an AI system itself, Claude's outputs may better represent the ideal responses expected from other AI systems, potentially offering a more relevant benchmark for evaluating RAG systems.\n",
    "\n",
    "Crucially, the ground truth references generated by Claude were double-checked by a human. This hybrid approach mitigates potential biases or errors in Claude's outputs while maintaining the benefits of large-scale, consistent reference generation. \n",
    "\n",
    "In future iterations, given more time, a hybrid approach combining Claude-generated references with extensive human verification and editing would be ideal. This method would leverage AI efficiency while ensuring human-level accuracy and nuance.\n",
    "Alternative evaluation methods, such as surveys with human volunteers manually assessing RAG answers, were considered. However, time constraints and the challenge of finding qualified volunteers familiar with the diverse content made this approach impractical for the current project. The chosen method balances efficiency, scalability, and quality within the available resources."
   ]
  },
  {
   "cell_type": "markdown",
   "id": "f6914ae1-9a05-4386-8144-ed1caccd65a9",
   "metadata": {},
   "source": [
    "# References"
   ]
  },
  {
   "cell_type": "markdown",
   "id": "412a096d-414f-45dd-a7eb-7fd5864c69f4",
   "metadata": {},
   "source": [
    "[1]Anthropic, “Claude,” Claude.ai, 2023. https://claude.ai/\n",
    "\n",
    "[2]“ROUGE - a Hugging Face Space by evaluate-metric,” huggingface.co. https://huggingface.co/spaces/evaluate-metric/rouge\n",
    "\n",
    "[3]“Perplexity - a Hugging Face Space by evaluate-metric,” huggingface.co. https://huggingface.co/spaces/evaluate-metric/perplexity\n",
    "\n",
    "[4]“BLEU - a Hugging Face Space by evaluate-metric,” huggingface.co. https://huggingface.co/spaces/evaluate-metric/bleu"
   ]
  },
  {
   "cell_type": "markdown",
   "id": "1e9d6032-e804-4a4e-abac-2ed7fc1b25e4",
   "metadata": {},
   "source": [
    "#### Use of AI in this assignment: LLM's were used for primarily 3 different reasons:\n",
    "1. To polish up and structure wordings of dicsussions and text material\n",
    "2. Re-factor existing code to adapt it to similar implementations (e.g. evaluation for DPR and TILDE just needed changing of variable names and file paths)\n",
    "3. For generating answers to use as references or \"ground truth\" for RAG evaluation methods\n",
    "\n",
    "Claude 3.5 Sonnet was the most commonly used LLM model for this assignment"
   ]
  },
  {
   "cell_type": "code",
   "execution_count": null,
   "id": "a4094bd5-aec9-407d-9dd7-f97a8cb35205",
   "metadata": {},
   "outputs": [],
   "source": []
  }
 ],
 "metadata": {
  "colab": {
   "provenance": [],
   "toc_visible": true
  },
  "kernelspec": {
   "display_name": "Python 3 (ipykernel)",
   "language": "python",
   "name": "python3"
  },
  "language_info": {
   "codemirror_mode": {
    "name": "ipython",
    "version": 3
   },
   "file_extension": ".py",
   "mimetype": "text/x-python",
   "name": "python",
   "nbconvert_exporter": "python",
   "pygments_lexer": "ipython3",
   "version": "3.8.18"
  }
 },
 "nbformat": 4,
 "nbformat_minor": 5
}
